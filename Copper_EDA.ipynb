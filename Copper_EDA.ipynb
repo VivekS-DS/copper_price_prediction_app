{
  "cells": [
    {
      "cell_type": "markdown",
      "metadata": {
        "id": "TM1TnOqXQquL"
      },
      "source": [
        "# **Industrial Copper Modeling**"
      ]
    },
    {
      "cell_type": "markdown",
      "metadata": {
        "id": "aiQRBxudRHkQ",
        "jp-MarkdownHeadingCollapsed": true
      },
      "source": [
        "## **Problem Statement:**\n",
        "\n",
        "The copper industry deals with less complex data related to sales and pricing. However, this data may suffer from issues such as skewness and noisy data, which can affect the accuracy of manual predictions. Dealing with these challenges manually can be time-consuming and may not result in optimal pricing decisions. A machine learning regression model can address these issues by utilizing advanced techniques such as data normalization, feature scaling, and outlier detection, and leveraging algorithms that are robust to skewed and noisy data.\n",
        "\n",
        "Another area where the copper industry faces challenges is in capturing the leads. A lead classification model is a system for evaluating and classifying leads based on how likely they are to become a customer . You can use the STATUS variable with WON being considered as Success and LOST being considered as Failure and remove data points other than WON, LOST STATUS values.\n",
        "\n",
        "**Approach**\n",
        "1.   Exploring skewness and outliers in the dataset.\n",
        "2.   Transform the data into a suitable format and perform any necessary cleaning and pre-processing steps.\n",
        "\n",
        "3. ML Regression model which predicts continuous variable ‘Selling_Price’.\n",
        "4. ML Classification model which predicts Status: WON or LOST.\n",
        "5. Creating a streamlit page where you can insert each column value and you will get the Selling_Price predicted value or Status(Won/Lost)\n"
      ]
    },
    {
      "cell_type": "markdown",
      "metadata": {
        "id": "XMBWOhFQSm3g"
      },
      "source": [
        "## Reading and Understanding the data"
      ]
    },
    {
      "cell_type": "code",
      "execution_count": 1,
      "metadata": {
        "id": "ZURvbZkTuNtU"
      },
      "outputs": [],
      "source": [
        "# Importing necessary library\n",
        "import pandas as pd\n",
        "import numpy as np\n",
        "import matplotlib.pyplot as plt\n",
        "import seaborn as sns\n",
        "\n",
        "import warnings\n",
        "warnings.filterwarnings('ignore')"
      ]
    },
    {
      "cell_type": "code",
      "execution_count": 2,
      "metadata": {
        "id": "2tpktR1kLi5P"
      },
      "outputs": [],
      "source": [
        "# Setting up the formatting parameters\n",
        "pd.set_option('display.max_columns',500) # To display max columns\n",
        "pd.set_option('display.max_row',1000) # To display max rows\n",
        "pd.options.display.float_format = \"{:,.2f}\".format #format floating-point number"
      ]
    },
    {
      "cell_type": "code",
      "source": [
        "from google.colab import drive\n",
        "drive.mount('/content/drive')\n",
        "dataset = '/content/drive/MyDrive/Dataset/GUVI/Copper_Set.xlsx'"
      ],
      "metadata": {
        "colab": {
          "base_uri": "https://localhost:8080/"
        },
        "id": "hPJPvNSFQ7Xi",
        "outputId": "17cf0581-9f5d-4d11-f024-d8200ad8f334"
      },
      "execution_count": 3,
      "outputs": [
        {
          "output_type": "stream",
          "name": "stdout",
          "text": [
            "Mounted at /content/drive\n"
          ]
        }
      ]
    },
    {
      "cell_type": "code",
      "execution_count": 4,
      "metadata": {
        "id": "BuVbTfNxujl7",
        "colab": {
          "base_uri": "https://localhost:8080/"
        },
        "outputId": "73175f45-7b8f-40f8-acb8-bd93c58a7740"
      },
      "outputs": [
        {
          "output_type": "stream",
          "name": "stdout",
          "text": [
            "The dataset has  181673  records and  14  variables\n"
          ]
        }
      ],
      "source": [
        "# Read data from an Excel file\n",
        "copper_rawdata = pd.read_excel(dataset, sheet_name='Result 1')\n",
        "print('The dataset has ',copper_rawdata.shape[0],' records and ', copper_rawdata.shape[1], ' variables')"
      ]
    },
    {
      "cell_type": "code",
      "execution_count": 5,
      "metadata": {
        "id": "BapvH-lewd2a",
        "colab": {
          "base_uri": "https://localhost:8080/",
          "height": 486
        },
        "outputId": "a6011e9d-909d-4fe3-cd0b-3eddb1ae6c05"
      },
      "outputs": [
        {
          "output_type": "execute_result",
          "data": {
            "text/plain": [
              "                                     id     item_date quantity tons  \\\n",
              "0  EC06F063-9DF0-440C-8764-0B0C05A4F6AE 20,210,401.00         54.15   \n",
              "1  4E5F4B3D-DDDF-499D-AFDE-A3227EC49425 20,210,401.00        768.02   \n",
              "2  E140FF1B-2407-4C02-A0DD-780A093B1158 20,210,401.00        386.13   \n",
              "3  F8D507A0-9C62-4EFE-831E-33E1DA53BB50 20,210,401.00        202.41   \n",
              "4  4E1C4E78-152B-430A-8094-ADD889C9D0AD 20,210,401.00        785.53   \n",
              "\n",
              "       customer  country status item type  application  thickness    width  \\\n",
              "0 30,156,308.00    28.00    Won         W        10.00       2.00 1,500.00   \n",
              "1 30,202,938.00    25.00    Won         W        41.00       0.80 1,210.00   \n",
              "2 30,153,963.00    30.00    Won        WI        28.00       0.38   952.00   \n",
              "3 30,349,574.00    32.00    Won         S        59.00       2.30 1,317.00   \n",
              "4 30,211,560.00    28.00    Won         W        10.00       4.00 2,000.00   \n",
              "\n",
              "                               material_ref  product_ref  delivery date  \\\n",
              "0                               DEQ1 S460MC   1670798778  20,210,701.00   \n",
              "1  0000000000000000000000000000000000104991   1668701718  20,210,401.00   \n",
              "2                                  S0380700       628377  20,210,101.00   \n",
              "3                   DX51D+ZM310MAO 2.3X1317   1668701718  20,210,101.00   \n",
              "4                           2_S275JR+AR-CL1       640665  20,210,301.00   \n",
              "\n",
              "   selling_price  \n",
              "0         854.00  \n",
              "1       1,047.00  \n",
              "2         644.33  \n",
              "3         768.00  \n",
              "4         577.00  "
            ],
            "text/html": [
              "\n",
              "  <div id=\"df-0387cd93-a68c-4572-99a8-df656e2cc5d9\" class=\"colab-df-container\">\n",
              "    <div>\n",
              "<style scoped>\n",
              "    .dataframe tbody tr th:only-of-type {\n",
              "        vertical-align: middle;\n",
              "    }\n",
              "\n",
              "    .dataframe tbody tr th {\n",
              "        vertical-align: top;\n",
              "    }\n",
              "\n",
              "    .dataframe thead th {\n",
              "        text-align: right;\n",
              "    }\n",
              "</style>\n",
              "<table border=\"1\" class=\"dataframe\">\n",
              "  <thead>\n",
              "    <tr style=\"text-align: right;\">\n",
              "      <th></th>\n",
              "      <th>id</th>\n",
              "      <th>item_date</th>\n",
              "      <th>quantity tons</th>\n",
              "      <th>customer</th>\n",
              "      <th>country</th>\n",
              "      <th>status</th>\n",
              "      <th>item type</th>\n",
              "      <th>application</th>\n",
              "      <th>thickness</th>\n",
              "      <th>width</th>\n",
              "      <th>material_ref</th>\n",
              "      <th>product_ref</th>\n",
              "      <th>delivery date</th>\n",
              "      <th>selling_price</th>\n",
              "    </tr>\n",
              "  </thead>\n",
              "  <tbody>\n",
              "    <tr>\n",
              "      <th>0</th>\n",
              "      <td>EC06F063-9DF0-440C-8764-0B0C05A4F6AE</td>\n",
              "      <td>20,210,401.00</td>\n",
              "      <td>54.15</td>\n",
              "      <td>30,156,308.00</td>\n",
              "      <td>28.00</td>\n",
              "      <td>Won</td>\n",
              "      <td>W</td>\n",
              "      <td>10.00</td>\n",
              "      <td>2.00</td>\n",
              "      <td>1,500.00</td>\n",
              "      <td>DEQ1 S460MC</td>\n",
              "      <td>1670798778</td>\n",
              "      <td>20,210,701.00</td>\n",
              "      <td>854.00</td>\n",
              "    </tr>\n",
              "    <tr>\n",
              "      <th>1</th>\n",
              "      <td>4E5F4B3D-DDDF-499D-AFDE-A3227EC49425</td>\n",
              "      <td>20,210,401.00</td>\n",
              "      <td>768.02</td>\n",
              "      <td>30,202,938.00</td>\n",
              "      <td>25.00</td>\n",
              "      <td>Won</td>\n",
              "      <td>W</td>\n",
              "      <td>41.00</td>\n",
              "      <td>0.80</td>\n",
              "      <td>1,210.00</td>\n",
              "      <td>0000000000000000000000000000000000104991</td>\n",
              "      <td>1668701718</td>\n",
              "      <td>20,210,401.00</td>\n",
              "      <td>1,047.00</td>\n",
              "    </tr>\n",
              "    <tr>\n",
              "      <th>2</th>\n",
              "      <td>E140FF1B-2407-4C02-A0DD-780A093B1158</td>\n",
              "      <td>20,210,401.00</td>\n",
              "      <td>386.13</td>\n",
              "      <td>30,153,963.00</td>\n",
              "      <td>30.00</td>\n",
              "      <td>Won</td>\n",
              "      <td>WI</td>\n",
              "      <td>28.00</td>\n",
              "      <td>0.38</td>\n",
              "      <td>952.00</td>\n",
              "      <td>S0380700</td>\n",
              "      <td>628377</td>\n",
              "      <td>20,210,101.00</td>\n",
              "      <td>644.33</td>\n",
              "    </tr>\n",
              "    <tr>\n",
              "      <th>3</th>\n",
              "      <td>F8D507A0-9C62-4EFE-831E-33E1DA53BB50</td>\n",
              "      <td>20,210,401.00</td>\n",
              "      <td>202.41</td>\n",
              "      <td>30,349,574.00</td>\n",
              "      <td>32.00</td>\n",
              "      <td>Won</td>\n",
              "      <td>S</td>\n",
              "      <td>59.00</td>\n",
              "      <td>2.30</td>\n",
              "      <td>1,317.00</td>\n",
              "      <td>DX51D+ZM310MAO 2.3X1317</td>\n",
              "      <td>1668701718</td>\n",
              "      <td>20,210,101.00</td>\n",
              "      <td>768.00</td>\n",
              "    </tr>\n",
              "    <tr>\n",
              "      <th>4</th>\n",
              "      <td>4E1C4E78-152B-430A-8094-ADD889C9D0AD</td>\n",
              "      <td>20,210,401.00</td>\n",
              "      <td>785.53</td>\n",
              "      <td>30,211,560.00</td>\n",
              "      <td>28.00</td>\n",
              "      <td>Won</td>\n",
              "      <td>W</td>\n",
              "      <td>10.00</td>\n",
              "      <td>4.00</td>\n",
              "      <td>2,000.00</td>\n",
              "      <td>2_S275JR+AR-CL1</td>\n",
              "      <td>640665</td>\n",
              "      <td>20,210,301.00</td>\n",
              "      <td>577.00</td>\n",
              "    </tr>\n",
              "  </tbody>\n",
              "</table>\n",
              "</div>\n",
              "    <div class=\"colab-df-buttons\">\n",
              "\n",
              "  <div class=\"colab-df-container\">\n",
              "    <button class=\"colab-df-convert\" onclick=\"convertToInteractive('df-0387cd93-a68c-4572-99a8-df656e2cc5d9')\"\n",
              "            title=\"Convert this dataframe to an interactive table.\"\n",
              "            style=\"display:none;\">\n",
              "\n",
              "  <svg xmlns=\"http://www.w3.org/2000/svg\" height=\"24px\" viewBox=\"0 -960 960 960\">\n",
              "    <path d=\"M120-120v-720h720v720H120Zm60-500h600v-160H180v160Zm220 220h160v-160H400v160Zm0 220h160v-160H400v160ZM180-400h160v-160H180v160Zm440 0h160v-160H620v160ZM180-180h160v-160H180v160Zm440 0h160v-160H620v160Z\"/>\n",
              "  </svg>\n",
              "    </button>\n",
              "\n",
              "  <style>\n",
              "    .colab-df-container {\n",
              "      display:flex;\n",
              "      gap: 12px;\n",
              "    }\n",
              "\n",
              "    .colab-df-convert {\n",
              "      background-color: #E8F0FE;\n",
              "      border: none;\n",
              "      border-radius: 50%;\n",
              "      cursor: pointer;\n",
              "      display: none;\n",
              "      fill: #1967D2;\n",
              "      height: 32px;\n",
              "      padding: 0 0 0 0;\n",
              "      width: 32px;\n",
              "    }\n",
              "\n",
              "    .colab-df-convert:hover {\n",
              "      background-color: #E2EBFA;\n",
              "      box-shadow: 0px 1px 2px rgba(60, 64, 67, 0.3), 0px 1px 3px 1px rgba(60, 64, 67, 0.15);\n",
              "      fill: #174EA6;\n",
              "    }\n",
              "\n",
              "    .colab-df-buttons div {\n",
              "      margin-bottom: 4px;\n",
              "    }\n",
              "\n",
              "    [theme=dark] .colab-df-convert {\n",
              "      background-color: #3B4455;\n",
              "      fill: #D2E3FC;\n",
              "    }\n",
              "\n",
              "    [theme=dark] .colab-df-convert:hover {\n",
              "      background-color: #434B5C;\n",
              "      box-shadow: 0px 1px 3px 1px rgba(0, 0, 0, 0.15);\n",
              "      filter: drop-shadow(0px 1px 2px rgba(0, 0, 0, 0.3));\n",
              "      fill: #FFFFFF;\n",
              "    }\n",
              "  </style>\n",
              "\n",
              "    <script>\n",
              "      const buttonEl =\n",
              "        document.querySelector('#df-0387cd93-a68c-4572-99a8-df656e2cc5d9 button.colab-df-convert');\n",
              "      buttonEl.style.display =\n",
              "        google.colab.kernel.accessAllowed ? 'block' : 'none';\n",
              "\n",
              "      async function convertToInteractive(key) {\n",
              "        const element = document.querySelector('#df-0387cd93-a68c-4572-99a8-df656e2cc5d9');\n",
              "        const dataTable =\n",
              "          await google.colab.kernel.invokeFunction('convertToInteractive',\n",
              "                                                    [key], {});\n",
              "        if (!dataTable) return;\n",
              "\n",
              "        const docLinkHtml = 'Like what you see? Visit the ' +\n",
              "          '<a target=\"_blank\" href=https://colab.research.google.com/notebooks/data_table.ipynb>data table notebook</a>'\n",
              "          + ' to learn more about interactive tables.';\n",
              "        element.innerHTML = '';\n",
              "        dataTable['output_type'] = 'display_data';\n",
              "        await google.colab.output.renderOutput(dataTable, element);\n",
              "        const docLink = document.createElement('div');\n",
              "        docLink.innerHTML = docLinkHtml;\n",
              "        element.appendChild(docLink);\n",
              "      }\n",
              "    </script>\n",
              "  </div>\n",
              "\n",
              "\n",
              "<div id=\"df-d4ecc89e-527b-4155-89f8-0906feac6a20\">\n",
              "  <button class=\"colab-df-quickchart\" onclick=\"quickchart('df-d4ecc89e-527b-4155-89f8-0906feac6a20')\"\n",
              "            title=\"Suggest charts\"\n",
              "            style=\"display:none;\">\n",
              "\n",
              "<svg xmlns=\"http://www.w3.org/2000/svg\" height=\"24px\"viewBox=\"0 0 24 24\"\n",
              "     width=\"24px\">\n",
              "    <g>\n",
              "        <path d=\"M19 3H5c-1.1 0-2 .9-2 2v14c0 1.1.9 2 2 2h14c1.1 0 2-.9 2-2V5c0-1.1-.9-2-2-2zM9 17H7v-7h2v7zm4 0h-2V7h2v10zm4 0h-2v-4h2v4z\"/>\n",
              "    </g>\n",
              "</svg>\n",
              "  </button>\n",
              "\n",
              "<style>\n",
              "  .colab-df-quickchart {\n",
              "      --bg-color: #E8F0FE;\n",
              "      --fill-color: #1967D2;\n",
              "      --hover-bg-color: #E2EBFA;\n",
              "      --hover-fill-color: #174EA6;\n",
              "      --disabled-fill-color: #AAA;\n",
              "      --disabled-bg-color: #DDD;\n",
              "  }\n",
              "\n",
              "  [theme=dark] .colab-df-quickchart {\n",
              "      --bg-color: #3B4455;\n",
              "      --fill-color: #D2E3FC;\n",
              "      --hover-bg-color: #434B5C;\n",
              "      --hover-fill-color: #FFFFFF;\n",
              "      --disabled-bg-color: #3B4455;\n",
              "      --disabled-fill-color: #666;\n",
              "  }\n",
              "\n",
              "  .colab-df-quickchart {\n",
              "    background-color: var(--bg-color);\n",
              "    border: none;\n",
              "    border-radius: 50%;\n",
              "    cursor: pointer;\n",
              "    display: none;\n",
              "    fill: var(--fill-color);\n",
              "    height: 32px;\n",
              "    padding: 0;\n",
              "    width: 32px;\n",
              "  }\n",
              "\n",
              "  .colab-df-quickchart:hover {\n",
              "    background-color: var(--hover-bg-color);\n",
              "    box-shadow: 0 1px 2px rgba(60, 64, 67, 0.3), 0 1px 3px 1px rgba(60, 64, 67, 0.15);\n",
              "    fill: var(--button-hover-fill-color);\n",
              "  }\n",
              "\n",
              "  .colab-df-quickchart-complete:disabled,\n",
              "  .colab-df-quickchart-complete:disabled:hover {\n",
              "    background-color: var(--disabled-bg-color);\n",
              "    fill: var(--disabled-fill-color);\n",
              "    box-shadow: none;\n",
              "  }\n",
              "\n",
              "  .colab-df-spinner {\n",
              "    border: 2px solid var(--fill-color);\n",
              "    border-color: transparent;\n",
              "    border-bottom-color: var(--fill-color);\n",
              "    animation:\n",
              "      spin 1s steps(1) infinite;\n",
              "  }\n",
              "\n",
              "  @keyframes spin {\n",
              "    0% {\n",
              "      border-color: transparent;\n",
              "      border-bottom-color: var(--fill-color);\n",
              "      border-left-color: var(--fill-color);\n",
              "    }\n",
              "    20% {\n",
              "      border-color: transparent;\n",
              "      border-left-color: var(--fill-color);\n",
              "      border-top-color: var(--fill-color);\n",
              "    }\n",
              "    30% {\n",
              "      border-color: transparent;\n",
              "      border-left-color: var(--fill-color);\n",
              "      border-top-color: var(--fill-color);\n",
              "      border-right-color: var(--fill-color);\n",
              "    }\n",
              "    40% {\n",
              "      border-color: transparent;\n",
              "      border-right-color: var(--fill-color);\n",
              "      border-top-color: var(--fill-color);\n",
              "    }\n",
              "    60% {\n",
              "      border-color: transparent;\n",
              "      border-right-color: var(--fill-color);\n",
              "    }\n",
              "    80% {\n",
              "      border-color: transparent;\n",
              "      border-right-color: var(--fill-color);\n",
              "      border-bottom-color: var(--fill-color);\n",
              "    }\n",
              "    90% {\n",
              "      border-color: transparent;\n",
              "      border-bottom-color: var(--fill-color);\n",
              "    }\n",
              "  }\n",
              "</style>\n",
              "\n",
              "  <script>\n",
              "    async function quickchart(key) {\n",
              "      const quickchartButtonEl =\n",
              "        document.querySelector('#' + key + ' button');\n",
              "      quickchartButtonEl.disabled = true;  // To prevent multiple clicks.\n",
              "      quickchartButtonEl.classList.add('colab-df-spinner');\n",
              "      try {\n",
              "        const charts = await google.colab.kernel.invokeFunction(\n",
              "            'suggestCharts', [key], {});\n",
              "      } catch (error) {\n",
              "        console.error('Error during call to suggestCharts:', error);\n",
              "      }\n",
              "      quickchartButtonEl.classList.remove('colab-df-spinner');\n",
              "      quickchartButtonEl.classList.add('colab-df-quickchart-complete');\n",
              "    }\n",
              "    (() => {\n",
              "      let quickchartButtonEl =\n",
              "        document.querySelector('#df-d4ecc89e-527b-4155-89f8-0906feac6a20 button');\n",
              "      quickchartButtonEl.style.display =\n",
              "        google.colab.kernel.accessAllowed ? 'block' : 'none';\n",
              "    })();\n",
              "  </script>\n",
              "</div>\n",
              "\n",
              "    </div>\n",
              "  </div>\n"
            ]
          },
          "metadata": {},
          "execution_count": 5
        }
      ],
      "source": [
        "copper_rawdata.head()"
      ]
    },
    {
      "cell_type": "markdown",
      "metadata": {
        "id": "uszUjxZfUq-K"
      },
      "source": [
        "## **About the Data:**\n",
        "\n",
        "1. `id`: This column likely serves as a unique identifier for each transaction or item, which can be useful for tracking and record-keeping.\n",
        "2. `item_date`: This column represents the date when each transaction or item was recorded or occurred. It's important for tracking the timing of business activities.\n",
        "3. `quantity tons`: This column indicates the quantity of the item in tons, which is essential for inventory management and understanding the volume of products sold or produced.\n",
        "4. `customer`: The \"customer\" column refers to the name or identifier of the customer who either purchased or ordered the items. It's crucial for maintaining customer relationships and tracking sales.\n",
        "5. `country`: The \"country\" column specifies the country associated with each customer. This information can be useful for understanding the geographic distribution of customers and may have implications for logistics and international sales.\n",
        "6. `status`: The \"status\" column likely describes the current status of the transaction or item. This information can be used to track the progress of orders or transactions, such as \"Draft\" or \"Won.\"\n",
        "7. `item type`: This column categorizes the type or category of the items being sold or produced. Understanding item types is essential for inventory categorization and business reporting.\n",
        "8. `application`: The \"application\" column defines the specific use or application of the items. This information can help tailor marketing and product development efforts.\n",
        "9. `thickness`: The \"thickness\" column provides details about the thickness of the items. It's critical when dealing with materials where thickness is a significant factor, such as metals or construction materials.\n",
        "10. `width`: The \"width\" column specifies the width of the items. It's important for understanding the size and dimensions of the products.\n",
        "11. `material_ref`: This column appears to be a reference or identifier for the material used in the items. It's essential for tracking the source or composition of the products.\n",
        "12. `product_ref`: The \"product_ref\" column seems to be a reference or identifier for the specific product. This information is useful for identifying and cataloging products in a standardized way.\n",
        "13. `delivery date`: This column records the expected or actual delivery date for each item or transaction. It's crucial for managing logistics and ensuring timely delivery to customers.\n",
        "14. `selling_price`: The \"selling_price\" column represents the price at which the items are sold. This is a critical factor for revenue generation and profitability analysis.\n",
        "\n",
        "\n",
        "### **Features/Independent variables:**\n",
        "1. `id`:\n",
        "2. `item_date`\n",
        "3. `quantity tons`\n",
        "4. `customer`\n",
        "5. `country`\n",
        "6. `item type`:\n",
        "7. `application`\n",
        "8. `thickness`\n",
        "9. `width`\n",
        "10. `material_ref`\n",
        "11. `product_ref`\n",
        "12. `delivery date`\n",
        "\n",
        "### **Target/Dependent variables:**\n",
        "\n",
        "1. `status` - Classification\n",
        "2. `selling_price`- Regression"
      ]
    },
    {
      "cell_type": "code",
      "execution_count": 209,
      "metadata": {
        "id": "EPI_EIVmutQy",
        "colab": {
          "base_uri": "https://localhost:8080/"
        },
        "outputId": "33c19ca8-2a12-4440-ab1e-6af4ae51a408"
      },
      "outputs": [
        {
          "output_type": "stream",
          "name": "stdout",
          "text": [
            "<class 'pandas.core.frame.DataFrame'>\n",
            "RangeIndex: 181672 entries, 0 to 181671\n",
            "Data columns (total 14 columns):\n",
            " #   Column         Non-Null Count   Dtype  \n",
            "---  ------         --------------   -----  \n",
            " 0   id             181671 non-null  object \n",
            " 1   item_date      181671 non-null  float64\n",
            " 2   quantity tons  181672 non-null  object \n",
            " 3   customer       181671 non-null  float64\n",
            " 4   country        181644 non-null  float64\n",
            " 5   status         181670 non-null  object \n",
            " 6   item type      181672 non-null  object \n",
            " 7   application    181648 non-null  float64\n",
            " 8   thickness      181671 non-null  float64\n",
            " 9   width          181672 non-null  float64\n",
            " 10  material_ref   103754 non-null  object \n",
            " 11  product_ref    181672 non-null  int64  \n",
            " 12  delivery date  181671 non-null  float64\n",
            " 13  selling_price  181671 non-null  float64\n",
            "dtypes: float64(8), int64(1), object(5)\n",
            "memory usage: 19.4+ MB\n"
          ]
        }
      ],
      "source": [
        "copper_rawdata.info()"
      ]
    },
    {
      "cell_type": "markdown",
      "metadata": {
        "id": "CHWB6GjiWtcZ"
      },
      "source": [
        "**Interference**\n",
        "* The dataset is having 181673 records and 14 columns.\n",
        "* It is having the following dtypes float64(8), int64(1), object(5).\n",
        "* The Memory usage: 19.4+ MB"
      ]
    },
    {
      "cell_type": "code",
      "execution_count": 210,
      "metadata": {
        "id": "BZKw7WsH1V-Q",
        "colab": {
          "base_uri": "https://localhost:8080/"
        },
        "outputId": "a7b5bd2a-9dd4-43c8-df7f-366944fa4ba7"
      },
      "outputs": [
        {
          "output_type": "execute_result",
          "data": {
            "text/plain": [
              "id                   1\n",
              "item_date            1\n",
              "quantity tons        0\n",
              "customer             1\n",
              "country             28\n",
              "status               2\n",
              "item type            0\n",
              "application         24\n",
              "thickness            1\n",
              "width                0\n",
              "material_ref     77918\n",
              "product_ref          0\n",
              "delivery date        1\n",
              "selling_price        1\n",
              "dtype: int64"
            ]
          },
          "metadata": {},
          "execution_count": 210
        }
      ],
      "source": [
        "# Checking for Null values\n",
        "copper_rawdata.isnull().sum()"
      ]
    },
    {
      "cell_type": "markdown",
      "metadata": {
        "id": "Dkc-8B991toH"
      },
      "source": [
        "### Checking for duplicate values"
      ]
    },
    {
      "cell_type": "code",
      "execution_count": 211,
      "metadata": {
        "colab": {
          "base_uri": "https://localhost:8080/"
        },
        "id": "RZsV4zC6xGYT",
        "outputId": "0737e4b2-0b3f-41de-d0e4-9ab80a2283ec"
      },
      "outputs": [
        {
          "output_type": "execute_result",
          "data": {
            "text/plain": [
              "0"
            ]
          },
          "metadata": {},
          "execution_count": 211
        }
      ],
      "source": [
        "# Checking for duplicate records\n",
        "copper_rawdata.duplicated().sum()"
      ]
    },
    {
      "cell_type": "markdown",
      "metadata": {
        "id": "NShDWPMdYeEp"
      },
      "source": [
        "**Interference:**\n",
        "* There is no duplicate values."
      ]
    },
    {
      "cell_type": "code",
      "execution_count": 212,
      "metadata": {
        "colab": {
          "base_uri": "https://localhost:8080/"
        },
        "id": "bQS7Zge3p0hS",
        "outputId": "a29e0346-5a5d-485e-ec8b-1e070bcf092c"
      },
      "outputs": [
        {
          "output_type": "execute_result",
          "data": {
            "text/plain": [
              "0"
            ]
          },
          "metadata": {},
          "execution_count": 212
        }
      ],
      "source": [
        "# Checking for duplicates 'id'\n",
        "copper_rawdata['id'].duplicated().sum()"
      ]
    },
    {
      "cell_type": "code",
      "execution_count": 213,
      "metadata": {
        "id": "_K-C-DAkwb0V"
      },
      "outputs": [],
      "source": [
        "# Dropping duplicate values\n",
        "copper_rawdata.drop_duplicates(subset=['id'], keep= 'last', inplace=True)\n",
        "copper_rawdata = copper_rawdata.reset_index(drop=True)"
      ]
    },
    {
      "cell_type": "code",
      "execution_count": 214,
      "metadata": {
        "colab": {
          "base_uri": "https://localhost:8080/"
        },
        "id": "e0oet2QPx5H_",
        "outputId": "e52aac1c-9d11-4fe8-c909-53e534384b09"
      },
      "outputs": [
        {
          "output_type": "execute_result",
          "data": {
            "text/plain": [
              "(181672, 14)"
            ]
          },
          "metadata": {},
          "execution_count": 214
        }
      ],
      "source": [
        "copper_rawdata.shape"
      ]
    },
    {
      "cell_type": "code",
      "execution_count": 215,
      "metadata": {
        "id": "bcf7R7Ye3yJ7"
      },
      "outputs": [],
      "source": [
        "# Creating a copy of the dataframe\n",
        "copper = copper_rawdata.copy()"
      ]
    },
    {
      "cell_type": "markdown",
      "metadata": {
        "id": "MFOQsqkgGsVT"
      },
      "source": [
        "# Data Cleaning"
      ]
    },
    {
      "cell_type": "code",
      "execution_count": 216,
      "metadata": {
        "colab": {
          "base_uri": "https://localhost:8080/"
        },
        "id": "1WtLsE-HO5BN",
        "outputId": "06e85147-75bd-4701-b077-fcfa82ef70f1"
      },
      "outputs": [
        {
          "output_type": "stream",
          "name": "stdout",
          "text": [
            "Before Formating ['id', 'item_date', 'quantity tons', 'customer', 'country', 'status', 'item type', 'application', 'thickness', 'width', 'material_ref', 'product_ref', 'delivery date', 'selling_price']\n",
            "\n",
            "After Formating ['id', 'item_date', 'quantity_tons', 'customer', 'country', 'status', 'item_type', 'application', 'thickness', 'width', 'material_ref', 'product_ref', 'delivery_date', 'selling_price']\n"
          ]
        }
      ],
      "source": [
        "#Formatting feature names\n",
        "print('Before Formating', (copper_rawdata.columns).tolist())\n",
        "copper.columns = map(str.lower, copper.columns.str.replace(' ','_'))\n",
        "print()\n",
        "print('After Formating', (copper.columns).tolist())"
      ]
    },
    {
      "cell_type": "code",
      "execution_count": 217,
      "metadata": {
        "colab": {
          "base_uri": "https://localhost:8080/"
        },
        "id": "CCbVtqrmxkfK",
        "outputId": "2c460192-328c-441d-e4d1-1e2d00c7b0af"
      },
      "outputs": [
        {
          "output_type": "execute_result",
          "data": {
            "text/plain": [
              "id               181671\n",
              "item_date           252\n",
              "quantity_tons    181672\n",
              "customer           1169\n",
              "country              17\n",
              "status                9\n",
              "item_type             7\n",
              "application          30\n",
              "thickness           594\n",
              "width              1386\n",
              "material_ref      16563\n",
              "product_ref          33\n",
              "delivery_date        28\n",
              "selling_price      9795\n",
              "dtype: int64"
            ]
          },
          "metadata": {},
          "execution_count": 217
        }
      ],
      "source": [
        "copper.nunique()"
      ]
    },
    {
      "cell_type": "code",
      "execution_count": 218,
      "metadata": {
        "colab": {
          "base_uri": "https://localhost:8080/"
        },
        "id": "bK1U2_bDt_YJ",
        "outputId": "fda4fca7-5547-47ad-a4a2-f5923f4927f1"
      },
      "outputs": [
        {
          "output_type": "stream",
          "name": "stdout",
          "text": [
            "Total Unique values 1169\n",
            "\n",
            "customer [30156308. 30202938. 30153963. ... 30349515. 30284694. 30161559.]\n"
          ]
        }
      ],
      "source": [
        "# @title Checking unique values in each feature { run: \"auto\", form-width: \"25%\" }\n",
        "feature_name = \"customer\" # @param ['id', 'item_date','quantity_tons','customer','country','status','item_type','application','thickness','width','material_ref','product_ref','delivery_date','selling_price']\n",
        "print('Total Unique values',copper[feature_name].nunique())\n",
        "print()\n",
        "print(feature_name, copper[feature_name].unique())"
      ]
    },
    {
      "cell_type": "code",
      "execution_count": 219,
      "metadata": {
        "id": "iAbWRRyVqY7j"
      },
      "outputs": [],
      "source": [
        "# Droping the 'id' columns from dataframe\n",
        "copper.drop(['id'], axis = 1, inplace=True)"
      ]
    },
    {
      "cell_type": "code",
      "execution_count": 220,
      "metadata": {
        "colab": {
          "base_uri": "https://localhost:8080/"
        },
        "id": "46nz4ixOx391",
        "outputId": "935e1c67-65f0-4c63-a08b-8ce584a6f420"
      },
      "outputs": [
        {
          "output_type": "stream",
          "name": "stdout",
          "text": [
            "<class 'pandas.core.frame.DataFrame'>\n",
            "RangeIndex: 181672 entries, 0 to 181671\n",
            "Data columns (total 13 columns):\n",
            " #   Column         Non-Null Count   Dtype  \n",
            "---  ------         --------------   -----  \n",
            " 0   item_date      181671 non-null  float64\n",
            " 1   quantity_tons  181672 non-null  object \n",
            " 2   customer       181671 non-null  float64\n",
            " 3   country        181644 non-null  float64\n",
            " 4   status         181670 non-null  object \n",
            " 5   item_type      181672 non-null  object \n",
            " 6   application    181648 non-null  float64\n",
            " 7   thickness      181671 non-null  float64\n",
            " 8   width          181672 non-null  float64\n",
            " 9   material_ref   103754 non-null  object \n",
            " 10  product_ref    181672 non-null  int64  \n",
            " 11  delivery_date  181671 non-null  float64\n",
            " 12  selling_price  181671 non-null  float64\n",
            "dtypes: float64(8), int64(1), object(4)\n",
            "memory usage: 18.0+ MB\n"
          ]
        }
      ],
      "source": [
        "copper.info()"
      ]
    },
    {
      "cell_type": "markdown",
      "metadata": {
        "id": "c5utHA7-yCMH"
      },
      "source": [
        "**Interference:**\n",
        " 0. item_date      =  float64 ==> datetime\n",
        " 1.   quantity tons  =  object ==> int/float\n",
        " 2. customer = float64 ==> object\n",
        " 3.   country        =  float64 ==> object\n",
        " 4.  status         =  object ==> Cleaning\n",
        " 5.  item type      =  object ==>\n",
        " 6.  application    =  float64 ==> object\n",
        " 7.   thickness      =  float64 ==> ⩗\n",
        " 8.   width          =  float64 ==> ⩗\n",
        " 9.   material_ref   =  object ==> cleaning\n",
        " 10.   product_ref    =  int64  ==> cleaning\n",
        " 11.  delivery date  =  float64 ==> datetime\n",
        " 12.  selling_price  =  float64 ==>"
      ]
    },
    {
      "cell_type": "code",
      "execution_count": 221,
      "metadata": {
        "colab": {
          "base_uri": "https://localhost:8080/"
        },
        "id": "qdb2pAdMcxKp",
        "outputId": "a026393e-2284-45c0-80b4-d66e9277685c"
      },
      "outputs": [
        {
          "output_type": "execute_result",
          "data": {
            "text/plain": [
              "item_date            1\n",
              "quantity_tons        0\n",
              "customer             1\n",
              "country             28\n",
              "status               2\n",
              "item_type            0\n",
              "application         24\n",
              "thickness            1\n",
              "width                0\n",
              "material_ref     77918\n",
              "product_ref          0\n",
              "delivery_date        1\n",
              "selling_price        1\n",
              "dtype: int64"
            ]
          },
          "metadata": {},
          "execution_count": 221
        }
      ],
      "source": [
        "# Checking NULL values\n",
        "copper.isnull().sum()"
      ]
    },
    {
      "cell_type": "markdown",
      "metadata": {
        "id": "zBImFx-SDX7s"
      },
      "source": [
        "**Interference :**\n",
        "* material_ref feature has 77918 NaN values\n"
      ]
    },
    {
      "cell_type": "code",
      "execution_count": 222,
      "metadata": {
        "colab": {
          "base_uri": "https://localhost:8080/",
          "height": 0
        },
        "id": "bi2eM76Reehd",
        "outputId": "1038740b-1e5b-4100-a3bf-9c5d0b96ce75"
      },
      "outputs": [
        {
          "output_type": "execute_result",
          "data": {
            "text/plain": [
              "      item_date quantity_tons      customer  country status item_type  \\\n",
              "0 20,210,401.00         54.15 30,156,308.00    28.00    Won         W   \n",
              "1 20,210,401.00        768.02 30,202,938.00    25.00    Won         W   \n",
              "\n",
              "   application  thickness    width                              material_ref  \\\n",
              "0        10.00       2.00 1,500.00                               DEQ1 S460MC   \n",
              "1        41.00       0.80 1,210.00  0000000000000000000000000000000000104991   \n",
              "\n",
              "   product_ref  delivery_date  selling_price  \n",
              "0   1670798778  20,210,701.00         854.00  \n",
              "1   1668701718  20,210,401.00       1,047.00  "
            ],
            "text/html": [
              "\n",
              "  <div id=\"df-67f10798-e376-4428-a7e6-a5dca501619d\" class=\"colab-df-container\">\n",
              "    <div>\n",
              "<style scoped>\n",
              "    .dataframe tbody tr th:only-of-type {\n",
              "        vertical-align: middle;\n",
              "    }\n",
              "\n",
              "    .dataframe tbody tr th {\n",
              "        vertical-align: top;\n",
              "    }\n",
              "\n",
              "    .dataframe thead th {\n",
              "        text-align: right;\n",
              "    }\n",
              "</style>\n",
              "<table border=\"1\" class=\"dataframe\">\n",
              "  <thead>\n",
              "    <tr style=\"text-align: right;\">\n",
              "      <th></th>\n",
              "      <th>item_date</th>\n",
              "      <th>quantity_tons</th>\n",
              "      <th>customer</th>\n",
              "      <th>country</th>\n",
              "      <th>status</th>\n",
              "      <th>item_type</th>\n",
              "      <th>application</th>\n",
              "      <th>thickness</th>\n",
              "      <th>width</th>\n",
              "      <th>material_ref</th>\n",
              "      <th>product_ref</th>\n",
              "      <th>delivery_date</th>\n",
              "      <th>selling_price</th>\n",
              "    </tr>\n",
              "  </thead>\n",
              "  <tbody>\n",
              "    <tr>\n",
              "      <th>0</th>\n",
              "      <td>20,210,401.00</td>\n",
              "      <td>54.15</td>\n",
              "      <td>30,156,308.00</td>\n",
              "      <td>28.00</td>\n",
              "      <td>Won</td>\n",
              "      <td>W</td>\n",
              "      <td>10.00</td>\n",
              "      <td>2.00</td>\n",
              "      <td>1,500.00</td>\n",
              "      <td>DEQ1 S460MC</td>\n",
              "      <td>1670798778</td>\n",
              "      <td>20,210,701.00</td>\n",
              "      <td>854.00</td>\n",
              "    </tr>\n",
              "    <tr>\n",
              "      <th>1</th>\n",
              "      <td>20,210,401.00</td>\n",
              "      <td>768.02</td>\n",
              "      <td>30,202,938.00</td>\n",
              "      <td>25.00</td>\n",
              "      <td>Won</td>\n",
              "      <td>W</td>\n",
              "      <td>41.00</td>\n",
              "      <td>0.80</td>\n",
              "      <td>1,210.00</td>\n",
              "      <td>0000000000000000000000000000000000104991</td>\n",
              "      <td>1668701718</td>\n",
              "      <td>20,210,401.00</td>\n",
              "      <td>1,047.00</td>\n",
              "    </tr>\n",
              "  </tbody>\n",
              "</table>\n",
              "</div>\n",
              "    <div class=\"colab-df-buttons\">\n",
              "\n",
              "  <div class=\"colab-df-container\">\n",
              "    <button class=\"colab-df-convert\" onclick=\"convertToInteractive('df-67f10798-e376-4428-a7e6-a5dca501619d')\"\n",
              "            title=\"Convert this dataframe to an interactive table.\"\n",
              "            style=\"display:none;\">\n",
              "\n",
              "  <svg xmlns=\"http://www.w3.org/2000/svg\" height=\"24px\" viewBox=\"0 -960 960 960\">\n",
              "    <path d=\"M120-120v-720h720v720H120Zm60-500h600v-160H180v160Zm220 220h160v-160H400v160Zm0 220h160v-160H400v160ZM180-400h160v-160H180v160Zm440 0h160v-160H620v160ZM180-180h160v-160H180v160Zm440 0h160v-160H620v160Z\"/>\n",
              "  </svg>\n",
              "    </button>\n",
              "\n",
              "  <style>\n",
              "    .colab-df-container {\n",
              "      display:flex;\n",
              "      gap: 12px;\n",
              "    }\n",
              "\n",
              "    .colab-df-convert {\n",
              "      background-color: #E8F0FE;\n",
              "      border: none;\n",
              "      border-radius: 50%;\n",
              "      cursor: pointer;\n",
              "      display: none;\n",
              "      fill: #1967D2;\n",
              "      height: 32px;\n",
              "      padding: 0 0 0 0;\n",
              "      width: 32px;\n",
              "    }\n",
              "\n",
              "    .colab-df-convert:hover {\n",
              "      background-color: #E2EBFA;\n",
              "      box-shadow: 0px 1px 2px rgba(60, 64, 67, 0.3), 0px 1px 3px 1px rgba(60, 64, 67, 0.15);\n",
              "      fill: #174EA6;\n",
              "    }\n",
              "\n",
              "    .colab-df-buttons div {\n",
              "      margin-bottom: 4px;\n",
              "    }\n",
              "\n",
              "    [theme=dark] .colab-df-convert {\n",
              "      background-color: #3B4455;\n",
              "      fill: #D2E3FC;\n",
              "    }\n",
              "\n",
              "    [theme=dark] .colab-df-convert:hover {\n",
              "      background-color: #434B5C;\n",
              "      box-shadow: 0px 1px 3px 1px rgba(0, 0, 0, 0.15);\n",
              "      filter: drop-shadow(0px 1px 2px rgba(0, 0, 0, 0.3));\n",
              "      fill: #FFFFFF;\n",
              "    }\n",
              "  </style>\n",
              "\n",
              "    <script>\n",
              "      const buttonEl =\n",
              "        document.querySelector('#df-67f10798-e376-4428-a7e6-a5dca501619d button.colab-df-convert');\n",
              "      buttonEl.style.display =\n",
              "        google.colab.kernel.accessAllowed ? 'block' : 'none';\n",
              "\n",
              "      async function convertToInteractive(key) {\n",
              "        const element = document.querySelector('#df-67f10798-e376-4428-a7e6-a5dca501619d');\n",
              "        const dataTable =\n",
              "          await google.colab.kernel.invokeFunction('convertToInteractive',\n",
              "                                                    [key], {});\n",
              "        if (!dataTable) return;\n",
              "\n",
              "        const docLinkHtml = 'Like what you see? Visit the ' +\n",
              "          '<a target=\"_blank\" href=https://colab.research.google.com/notebooks/data_table.ipynb>data table notebook</a>'\n",
              "          + ' to learn more about interactive tables.';\n",
              "        element.innerHTML = '';\n",
              "        dataTable['output_type'] = 'display_data';\n",
              "        await google.colab.output.renderOutput(dataTable, element);\n",
              "        const docLink = document.createElement('div');\n",
              "        docLink.innerHTML = docLinkHtml;\n",
              "        element.appendChild(docLink);\n",
              "      }\n",
              "    </script>\n",
              "  </div>\n",
              "\n",
              "\n",
              "<div id=\"df-08c5d8f4-f3ec-4f10-9ced-e09d55797fd7\">\n",
              "  <button class=\"colab-df-quickchart\" onclick=\"quickchart('df-08c5d8f4-f3ec-4f10-9ced-e09d55797fd7')\"\n",
              "            title=\"Suggest charts\"\n",
              "            style=\"display:none;\">\n",
              "\n",
              "<svg xmlns=\"http://www.w3.org/2000/svg\" height=\"24px\"viewBox=\"0 0 24 24\"\n",
              "     width=\"24px\">\n",
              "    <g>\n",
              "        <path d=\"M19 3H5c-1.1 0-2 .9-2 2v14c0 1.1.9 2 2 2h14c1.1 0 2-.9 2-2V5c0-1.1-.9-2-2-2zM9 17H7v-7h2v7zm4 0h-2V7h2v10zm4 0h-2v-4h2v4z\"/>\n",
              "    </g>\n",
              "</svg>\n",
              "  </button>\n",
              "\n",
              "<style>\n",
              "  .colab-df-quickchart {\n",
              "      --bg-color: #E8F0FE;\n",
              "      --fill-color: #1967D2;\n",
              "      --hover-bg-color: #E2EBFA;\n",
              "      --hover-fill-color: #174EA6;\n",
              "      --disabled-fill-color: #AAA;\n",
              "      --disabled-bg-color: #DDD;\n",
              "  }\n",
              "\n",
              "  [theme=dark] .colab-df-quickchart {\n",
              "      --bg-color: #3B4455;\n",
              "      --fill-color: #D2E3FC;\n",
              "      --hover-bg-color: #434B5C;\n",
              "      --hover-fill-color: #FFFFFF;\n",
              "      --disabled-bg-color: #3B4455;\n",
              "      --disabled-fill-color: #666;\n",
              "  }\n",
              "\n",
              "  .colab-df-quickchart {\n",
              "    background-color: var(--bg-color);\n",
              "    border: none;\n",
              "    border-radius: 50%;\n",
              "    cursor: pointer;\n",
              "    display: none;\n",
              "    fill: var(--fill-color);\n",
              "    height: 32px;\n",
              "    padding: 0;\n",
              "    width: 32px;\n",
              "  }\n",
              "\n",
              "  .colab-df-quickchart:hover {\n",
              "    background-color: var(--hover-bg-color);\n",
              "    box-shadow: 0 1px 2px rgba(60, 64, 67, 0.3), 0 1px 3px 1px rgba(60, 64, 67, 0.15);\n",
              "    fill: var(--button-hover-fill-color);\n",
              "  }\n",
              "\n",
              "  .colab-df-quickchart-complete:disabled,\n",
              "  .colab-df-quickchart-complete:disabled:hover {\n",
              "    background-color: var(--disabled-bg-color);\n",
              "    fill: var(--disabled-fill-color);\n",
              "    box-shadow: none;\n",
              "  }\n",
              "\n",
              "  .colab-df-spinner {\n",
              "    border: 2px solid var(--fill-color);\n",
              "    border-color: transparent;\n",
              "    border-bottom-color: var(--fill-color);\n",
              "    animation:\n",
              "      spin 1s steps(1) infinite;\n",
              "  }\n",
              "\n",
              "  @keyframes spin {\n",
              "    0% {\n",
              "      border-color: transparent;\n",
              "      border-bottom-color: var(--fill-color);\n",
              "      border-left-color: var(--fill-color);\n",
              "    }\n",
              "    20% {\n",
              "      border-color: transparent;\n",
              "      border-left-color: var(--fill-color);\n",
              "      border-top-color: var(--fill-color);\n",
              "    }\n",
              "    30% {\n",
              "      border-color: transparent;\n",
              "      border-left-color: var(--fill-color);\n",
              "      border-top-color: var(--fill-color);\n",
              "      border-right-color: var(--fill-color);\n",
              "    }\n",
              "    40% {\n",
              "      border-color: transparent;\n",
              "      border-right-color: var(--fill-color);\n",
              "      border-top-color: var(--fill-color);\n",
              "    }\n",
              "    60% {\n",
              "      border-color: transparent;\n",
              "      border-right-color: var(--fill-color);\n",
              "    }\n",
              "    80% {\n",
              "      border-color: transparent;\n",
              "      border-right-color: var(--fill-color);\n",
              "      border-bottom-color: var(--fill-color);\n",
              "    }\n",
              "    90% {\n",
              "      border-color: transparent;\n",
              "      border-bottom-color: var(--fill-color);\n",
              "    }\n",
              "  }\n",
              "</style>\n",
              "\n",
              "  <script>\n",
              "    async function quickchart(key) {\n",
              "      const quickchartButtonEl =\n",
              "        document.querySelector('#' + key + ' button');\n",
              "      quickchartButtonEl.disabled = true;  // To prevent multiple clicks.\n",
              "      quickchartButtonEl.classList.add('colab-df-spinner');\n",
              "      try {\n",
              "        const charts = await google.colab.kernel.invokeFunction(\n",
              "            'suggestCharts', [key], {});\n",
              "      } catch (error) {\n",
              "        console.error('Error during call to suggestCharts:', error);\n",
              "      }\n",
              "      quickchartButtonEl.classList.remove('colab-df-spinner');\n",
              "      quickchartButtonEl.classList.add('colab-df-quickchart-complete');\n",
              "    }\n",
              "    (() => {\n",
              "      let quickchartButtonEl =\n",
              "        document.querySelector('#df-08c5d8f4-f3ec-4f10-9ced-e09d55797fd7 button');\n",
              "      quickchartButtonEl.style.display =\n",
              "        google.colab.kernel.accessAllowed ? 'block' : 'none';\n",
              "    })();\n",
              "  </script>\n",
              "</div>\n",
              "\n",
              "    </div>\n",
              "  </div>\n"
            ]
          },
          "metadata": {},
          "execution_count": 222
        }
      ],
      "source": [
        "copper.head(2)"
      ]
    },
    {
      "cell_type": "markdown",
      "metadata": {
        "id": "y7s-J-FfdDQt"
      },
      "source": [
        "### Cleaning status"
      ]
    },
    {
      "cell_type": "code",
      "execution_count": 223,
      "metadata": {
        "colab": {
          "base_uri": "https://localhost:8080/"
        },
        "id": "5Yb42JgmXm2h",
        "outputId": "4df33388-19b8-40f4-c457-4c0206355e63"
      },
      "outputs": [
        {
          "output_type": "execute_result",
          "data": {
            "text/plain": [
              "1    116010\n",
              "0     34438\n",
              "Name: status, dtype: int64"
            ]
          },
          "metadata": {},
          "execution_count": 223
        }
      ],
      "source": [
        "# Keeping only won and lost labels for analysis\n",
        "def status_clean():\n",
        "  status_drop_list = []\n",
        "  for i in range(0,len(copper['status']),1):\n",
        "    if ((copper['status'][i] != 'Won') and (copper['status'][i] != 'Lost')):\n",
        "      status_drop_list.append(i)\n",
        "  copper.drop(index=status_drop_list, axis=0,inplace =True)\n",
        "  copper.reset_index(drop=True)\n",
        "  copper['status'] = copper['status'].apply(lambda x: 0 if x == 'Lost' else 1)\n",
        "  copper.reset_index(drop=True, inplace=True)\n",
        "  return copper['status'].value_counts(dropna=False)\n",
        "\n",
        "status_clean()"
      ]
    },
    {
      "cell_type": "markdown",
      "metadata": {
        "id": "ACWcjHrSTQWQ"
      },
      "source": [
        "**Interference :**\n",
        "* The target column 'status' is cleaned for bivariant ('Won' and 'Lost').\n",
        "* The status traget variable for classificaion model is unbalenced."
      ]
    },
    {
      "cell_type": "code",
      "execution_count": 224,
      "metadata": {
        "colab": {
          "base_uri": "https://localhost:8080/"
        },
        "id": "eVsKYDaNabOo",
        "outputId": "8ebd23d4-76a7-4006-e1ed-6b734bed641d"
      },
      "outputs": [
        {
          "output_type": "execute_result",
          "data": {
            "text/plain": [
              "(150448, 13)"
            ]
          },
          "metadata": {},
          "execution_count": 224
        }
      ],
      "source": [
        "copper.shape"
      ]
    },
    {
      "cell_type": "markdown",
      "metadata": {
        "id": "jQ7zIJxdiSZd"
      },
      "source": [
        "**Interference:**\n",
        "\n",
        "* The total of 150448 records are available for further analysis."
      ]
    },
    {
      "cell_type": "markdown",
      "metadata": {
        "id": "k4Ep_MBgYku7"
      },
      "source": [
        "### Cleaning item_date feature"
      ]
    },
    {
      "cell_type": "code",
      "source": [
        "copper['item_date'] = pd.to_datetime(copper['item_date'], format='%Y%m%d', errors='coerce').dt.date\n",
        "copper['delivery_date'] = pd.to_datetime(copper['delivery_date'], format='%Y%m%d', errors='coerce').dt.date"
      ],
      "metadata": {
        "id": "WFgHf3oDf7Pa"
      },
      "execution_count": 225,
      "outputs": []
    },
    {
      "cell_type": "code",
      "source": [
        "copper['item_date'][:1]"
      ],
      "metadata": {
        "colab": {
          "base_uri": "https://localhost:8080/"
        },
        "id": "kBpeqgpiiKbG",
        "outputId": "945be1a1-5a5f-4d57-edaa-740bcd1530a3"
      },
      "execution_count": 226,
      "outputs": [
        {
          "output_type": "execute_result",
          "data": {
            "text/plain": [
              "0    2021-04-01\n",
              "Name: item_date, dtype: object"
            ]
          },
          "metadata": {},
          "execution_count": 226
        }
      ]
    },
    {
      "cell_type": "code",
      "source": [
        "copper['item_date'].isnull().sum()"
      ],
      "metadata": {
        "colab": {
          "base_uri": "https://localhost:8080/"
        },
        "id": "sAdvMRnBh_cE",
        "outputId": "b82b0e20-160f-42c1-e00f-b008c50841aa"
      },
      "execution_count": 227,
      "outputs": [
        {
          "output_type": "execute_result",
          "data": {
            "text/plain": [
              "3"
            ]
          },
          "metadata": {},
          "execution_count": 227
        }
      ]
    },
    {
      "cell_type": "code",
      "source": [
        "# Fill null values with mode\n",
        "copper['item_date'].fillna(copper['item_date'].mode().iloc[0],inplace=True)\n",
        "copper['delivery_date'].fillna(copper['delivery_date'].mode().iloc[0],inplace=True)"
      ],
      "metadata": {
        "id": "VR07gIkZk-0r"
      },
      "execution_count": 228,
      "outputs": []
    },
    {
      "cell_type": "code",
      "execution_count": 229,
      "metadata": {
        "id": "KqqLMordM6Gp"
      },
      "outputs": [],
      "source": [
        "# Inserting a new column to check the item date and delivery data\n",
        "copper.insert(12,'processing_time',0)\n",
        "# Converting features to datetime format\n",
        "copper['processing_time'] = pd.to_datetime(copper['processing_time'])\n",
        "# Calculate the number of days to process the order\n",
        "for i in range(0,len(copper['processing_time']),1):\n",
        "  copper['processing_time'][i] = (copper['delivery_date'][i] - copper['item_date'][i]).days"
      ]
    },
    {
      "cell_type": "code",
      "execution_count": 230,
      "metadata": {
        "colab": {
          "base_uri": "https://localhost:8080/"
        },
        "id": "g0B2r5LGPjFo",
        "outputId": "71f386cf-4aab-4aef-a120-24901c69cf0f"
      },
      "outputs": [
        {
          "output_type": "execute_result",
          "data": {
            "text/plain": [
              "19196"
            ]
          },
          "metadata": {},
          "execution_count": 230
        }
      ],
      "source": [
        "# Checking for ambiguity in processing_time\n",
        "copper[copper['processing_time'] <=7 ]['processing_time'].value_counts().sum()"
      ]
    },
    {
      "cell_type": "markdown",
      "metadata": {
        "id": "A5NApjs5QyGt"
      },
      "source": [
        "**Interference :**\n",
        "* There are **15945** negative values and 3547 records less than 7 days.\n",
        "* This is due to misprinted values in the item_date and delivery_date.\n",
        "* A minimum processing time of **7 days** is mandatory to process the order.\n",
        "* Hence the records less than 7 days of processing time are droped."
      ]
    },
    {
      "cell_type": "code",
      "source": [
        "copper['processing_time'] =copper['processing_time'].astype(int)"
      ],
      "metadata": {
        "id": "f90UoBZ4YfVm"
      },
      "execution_count": 231,
      "outputs": []
    },
    {
      "cell_type": "code",
      "execution_count": 232,
      "metadata": {
        "colab": {
          "base_uri": "https://localhost:8080/"
        },
        "id": "mbiU7imIkm3y",
        "outputId": "0559aa19-4295-4c69-b04f-0a2df0563f19"
      },
      "outputs": [
        {
          "output_type": "stream",
          "name": "stdout",
          "text": [
            "<class 'pandas.core.frame.DataFrame'>\n",
            "RangeIndex: 150448 entries, 0 to 150447\n",
            "Data columns (total 14 columns):\n",
            " #   Column           Non-Null Count   Dtype  \n",
            "---  ------           --------------   -----  \n",
            " 0   item_date        150448 non-null  object \n",
            " 1   quantity_tons    150448 non-null  object \n",
            " 2   customer         150447 non-null  float64\n",
            " 3   country          150444 non-null  float64\n",
            " 4   status           150448 non-null  int64  \n",
            " 5   item_type        150448 non-null  object \n",
            " 6   application      150445 non-null  float64\n",
            " 7   thickness        150448 non-null  float64\n",
            " 8   width            150448 non-null  float64\n",
            " 9   material_ref     87649 non-null   object \n",
            " 10  product_ref      150448 non-null  int64  \n",
            " 11  delivery_date    150448 non-null  object \n",
            " 12  processing_time  150448 non-null  int64  \n",
            " 13  selling_price    150447 non-null  float64\n",
            "dtypes: float64(6), int64(3), object(5)\n",
            "memory usage: 16.1+ MB\n"
          ]
        }
      ],
      "source": [
        "copper.info()"
      ]
    },
    {
      "cell_type": "code",
      "execution_count": 233,
      "metadata": {
        "colab": {
          "base_uri": "https://localhost:8080/"
        },
        "id": "4kyFJeSYxrPc",
        "outputId": "f0f6260b-6104-494a-bc7b-bb03465d8907"
      },
      "outputs": [
        {
          "output_type": "execute_result",
          "data": {
            "text/plain": [
              "item_date              0\n",
              "quantity_tons          0\n",
              "customer               1\n",
              "country                4\n",
              "status                 0\n",
              "item_type              0\n",
              "application            3\n",
              "thickness              0\n",
              "width                  0\n",
              "material_ref       62799\n",
              "product_ref            0\n",
              "delivery_date          0\n",
              "processing_time        0\n",
              "selling_price          1\n",
              "dtype: int64"
            ]
          },
          "metadata": {},
          "execution_count": 233
        }
      ],
      "source": [
        "(copper.isnull().sum())"
      ]
    },
    {
      "cell_type": "code",
      "execution_count": 234,
      "metadata": {
        "colab": {
          "base_uri": "https://localhost:8080/"
        },
        "id": "sDyvlpqqz7wO",
        "outputId": "cbc28488-712e-4d03-ab08-28eca2a8844d"
      },
      "outputs": [
        {
          "output_type": "execute_result",
          "data": {
            "text/plain": [
              "item_date          0.00\n",
              "quantity_tons      0.00\n",
              "customer           0.00\n",
              "country            0.00\n",
              "status             0.00\n",
              "item_type          0.00\n",
              "application        0.00\n",
              "thickness          0.00\n",
              "width              0.00\n",
              "material_ref      41.74\n",
              "product_ref        0.00\n",
              "delivery_date      0.00\n",
              "processing_time    0.00\n",
              "selling_price      0.00\n",
              "dtype: float64"
            ]
          },
          "metadata": {},
          "execution_count": 234
        }
      ],
      "source": [
        "((copper.isnull().sum())/(len(copper)))*100"
      ]
    },
    {
      "cell_type": "markdown",
      "metadata": {
        "id": "wCR0SWXwNQeB"
      },
      "source": [
        "## Cleaning 'material_ref'"
      ]
    },
    {
      "cell_type": "code",
      "execution_count": 235,
      "metadata": {
        "colab": {
          "base_uri": "https://localhost:8080/"
        },
        "id": "bT8jacWxTvdO",
        "outputId": "c33d9596-66f6-48d0-aca4-804a24d89804"
      },
      "outputs": [
        {
          "output_type": "execute_result",
          "data": {
            "text/plain": [
              "NaN                              62799\n",
              "DX51D+Z                            851\n",
              "DC01 RED.FLAT KUCHNIA EKO 2.2      776\n",
              "G9010                              623\n",
              "DC01                               600\n",
              "                                 ...  \n",
              "DX51DZ275-1324X0.8                   1\n",
              "DX52DZ100-1242X0.3                   1\n",
              "M5648                                1\n",
              "M5649                                1\n",
              "202006170005.IO.1.1                  1\n",
              "Name: material_ref, Length: 15821, dtype: int64"
            ]
          },
          "metadata": {},
          "execution_count": 235
        }
      ],
      "source": [
        "copper['material_ref'].value_counts(dropna=False)"
      ]
    },
    {
      "cell_type": "code",
      "execution_count": 236,
      "metadata": {
        "colab": {
          "base_uri": "https://localhost:8080/"
        },
        "id": "1EIRLUubfymH",
        "outputId": "2b17960e-7d43-4d62-edcc-f03d889b98cc"
      },
      "outputs": [
        {
          "output_type": "stream",
          "name": "stdout",
          "text": [
            "Total NaN values after cleaning =  82418\n"
          ]
        }
      ],
      "source": [
        "# Cleaning material_ref column\n",
        "def mat_ref_clean():\n",
        "  ma_ref_nan_actual = copper['material_ref'].isnull().sum()\n",
        "  for j in range(0, len(copper['material_ref']), 1):\n",
        "    if isinstance(copper['material_ref'].iloc[j], str) and (copper['material_ref'].iloc[j][:5] == '00000'):\n",
        "      copper['material_ref'].iloc[j] = ''\n",
        "  copper['material_ref'] = copper['material_ref'].replace(r'',np.NaN)\n",
        "  ma_ref_nan_final = copper['material_ref'].isnull().sum()\n",
        "  view = print('Total NaN values after cleaning = ',ma_ref_nan_final)\n",
        "  return view\n",
        "mat_ref_clean()"
      ]
    },
    {
      "cell_type": "markdown",
      "metadata": {
        "id": "q4HuvgQl-URg"
      },
      "source": [
        "**Interference:**\n",
        "* **'material_ref'** has lot of anamolies in the data.\n",
        "* Hence this feature can be droped."
      ]
    },
    {
      "cell_type": "code",
      "execution_count": 237,
      "metadata": {
        "id": "jyO7OrpX_Y8s"
      },
      "outputs": [],
      "source": [
        "# Droping the feature 'material_ref'\n",
        "copper.drop('material_ref', axis= 1, inplace=True)"
      ]
    },
    {
      "cell_type": "markdown",
      "metadata": {
        "id": "tTiEV-G5c--A"
      },
      "source": [
        "**Interference:**\n",
        "* After dropping 'material_ref' feature, there is 150445 records with 11 columns for analysis."
      ]
    },
    {
      "cell_type": "code",
      "execution_count": 238,
      "metadata": {
        "id": "rOVTl2-vxFME"
      },
      "outputs": [],
      "source": [
        "#Creating a second copy\n",
        "copper1 = copper.copy()"
      ]
    },
    {
      "cell_type": "markdown",
      "metadata": {
        "id": "Lt7I4nCjxbYX"
      },
      "source": [
        "## Cleaning quantity_tons"
      ]
    },
    {
      "cell_type": "code",
      "execution_count": 239,
      "metadata": {
        "colab": {
          "base_uri": "https://localhost:8080/"
        },
        "id": "67xAplyvxamg",
        "outputId": "e989a64a-e933-4199-e4b2-e81c2c2333f2"
      },
      "outputs": [
        {
          "output_type": "execute_result",
          "data": {
            "text/plain": [
              "dtype('O')"
            ]
          },
          "metadata": {},
          "execution_count": 239
        }
      ],
      "source": [
        "# Checking the dtype\n",
        "copper1['quantity_tons'].dtype"
      ]
    },
    {
      "cell_type": "markdown",
      "metadata": {
        "id": "hQdvV6VtdwHO"
      },
      "source": [
        "**Interference:**\n",
        "* The 'quantity_tons' dtype is object.\n",
        "* It has a continuous value. So, it has to be converted to numerical data type."
      ]
    },
    {
      "cell_type": "code",
      "execution_count": 240,
      "metadata": {
        "id": "fXAMvone7XPX"
      },
      "outputs": [],
      "source": [
        "copper1['quantity_tons'] = copper1['quantity_tons'].replace('e',np.NaN)"
      ]
    },
    {
      "cell_type": "code",
      "execution_count": 241,
      "metadata": {
        "id": "g99FFvyV_LTn"
      },
      "outputs": [],
      "source": [
        "copper1['quantity_tons'] = copper1['quantity_tons'].astype(float)"
      ]
    },
    {
      "cell_type": "code",
      "execution_count": 242,
      "metadata": {
        "colab": {
          "base_uri": "https://localhost:8080/"
        },
        "id": "-s9HdzEFNgeh",
        "outputId": "75a9bfc1-6d8c-49a1-c3a1-1df97804ce9d"
      },
      "outputs": [
        {
          "output_type": "execute_result",
          "data": {
            "text/plain": [
              "54.15     1\n",
              "3.72      1\n",
              "89.24     1\n",
              "10.28     1\n",
              "52.54     1\n",
              "         ..\n",
              "72.95     1\n",
              "32.60     1\n",
              "89.14     1\n",
              "10.52     1\n",
              "406.69    1\n",
              "Name: quantity_tons, Length: 150448, dtype: int64"
            ]
          },
          "metadata": {},
          "execution_count": 242
        }
      ],
      "source": [
        "copper1['quantity_tons'].value_counts(dropna=False)"
      ]
    },
    {
      "cell_type": "code",
      "execution_count": 243,
      "metadata": {
        "colab": {
          "base_uri": "https://localhost:8080/"
        },
        "id": "NTsGCHn-yW2d",
        "outputId": "96328aad-7720-4b54-d3c3-d16a1cde10c1"
      },
      "outputs": [
        {
          "output_type": "execute_result",
          "data": {
            "text/plain": [
              "dtype('float64')"
            ]
          },
          "metadata": {},
          "execution_count": 243
        }
      ],
      "source": [
        "copper1['quantity_tons'].dtype"
      ]
    },
    {
      "cell_type": "code",
      "execution_count": 244,
      "metadata": {
        "colab": {
          "base_uri": "https://localhost:8080/"
        },
        "id": "q2eCzVoBXzhW",
        "outputId": "cc9c53c1-0b4e-49e9-bc17-9daa6f3b87bf"
      },
      "outputs": [
        {
          "output_type": "execute_result",
          "data": {
            "text/plain": [
              "count   150,447.00\n",
              "min      -2,000.00\n",
              "max      70,252.36\n",
              "Name: quantity_tons, dtype: float64"
            ]
          },
          "metadata": {},
          "execution_count": 244
        }
      ],
      "source": [
        "copper1['quantity_tons'].describe().T[['count','min','max']]"
      ]
    },
    {
      "cell_type": "code",
      "source": [
        "copper1['quantity_tons'] = copper1['quantity_tons'].apply(lambda x: np.nan if x<=1 else x)"
      ],
      "metadata": {
        "id": "akr-o5LJrbOZ"
      },
      "execution_count": 245,
      "outputs": []
    },
    {
      "cell_type": "code",
      "execution_count": 246,
      "metadata": {
        "id": "7qJuW0NXB-s1"
      },
      "outputs": [],
      "source": [
        "# Fixing the analysis range greaterthan 1 ton.\n",
        "copper1 = copper1[copper1['quantity_tons'] >= 1]\n",
        "copper1 =copper1.reset_index(drop=True)"
      ]
    },
    {
      "cell_type": "code",
      "execution_count": 247,
      "metadata": {
        "colab": {
          "base_uri": "https://localhost:8080/"
        },
        "id": "5Fs2UpBRClS7",
        "outputId": "e931032e-db61-4bc6-ea89-02ce2ac98637"
      },
      "outputs": [
        {
          "output_type": "execute_result",
          "data": {
            "text/plain": [
              "count   148,397.00\n",
              "min           1.00\n",
              "max      70,252.36\n",
              "Name: quantity_tons, dtype: float64"
            ]
          },
          "metadata": {},
          "execution_count": 247
        }
      ],
      "source": [
        "copper1['quantity_tons'].describe().T[['count','min','max']]"
      ]
    },
    {
      "cell_type": "markdown",
      "metadata": {
        "id": "WUzde48UAhLf"
      },
      "source": [
        "## Cleaning product_ref"
      ]
    },
    {
      "cell_type": "code",
      "execution_count": 248,
      "metadata": {
        "id": "T9o_RzlYzwjD"
      },
      "outputs": [],
      "source": [
        "copper2 =copper1.copy()"
      ]
    },
    {
      "cell_type": "code",
      "execution_count": 249,
      "metadata": {
        "colab": {
          "base_uri": "https://localhost:8080/"
        },
        "id": "_kC8VEFkQ2N2",
        "outputId": "3eb5964f-f308-42cd-bd0a-6aee2d01a4d5"
      },
      "outputs": [
        {
          "output_type": "stream",
          "name": "stdout",
          "text": [
            "<class 'pandas.core.series.Series'>\n",
            "RangeIndex: 148397 entries, 0 to 148396\n",
            "Series name: product_ref\n",
            "Non-Null Count   Dtype\n",
            "--------------   -----\n",
            "148397 non-null  int64\n",
            "dtypes: int64(1)\n",
            "memory usage: 1.1 MB\n"
          ]
        }
      ],
      "source": [
        "copper2['product_ref'].info()"
      ]
    },
    {
      "cell_type": "code",
      "execution_count": 250,
      "metadata": {
        "colab": {
          "base_uri": "https://localhost:8080/"
        },
        "id": "C_gqjgj8AwZW",
        "outputId": "22e064d1-e7b1-4ca4-d373-05ee9c6d537b"
      },
      "outputs": [
        {
          "output_type": "stream",
          "name": "stdout",
          "text": [
            "<class 'pandas.core.frame.DataFrame'>\n",
            "RangeIndex: 148397 entries, 0 to 148396\n",
            "Data columns (total 13 columns):\n",
            " #   Column           Non-Null Count   Dtype  \n",
            "---  ------           --------------   -----  \n",
            " 0   item_date        148397 non-null  object \n",
            " 1   quantity_tons    148397 non-null  float64\n",
            " 2   customer         148396 non-null  float64\n",
            " 3   country          148393 non-null  float64\n",
            " 4   status           148397 non-null  int64  \n",
            " 5   item_type        148397 non-null  object \n",
            " 6   application      148394 non-null  float64\n",
            " 7   thickness        148397 non-null  float64\n",
            " 8   width            148397 non-null  float64\n",
            " 9   product_ref      148397 non-null  int64  \n",
            " 10  delivery_date    148397 non-null  object \n",
            " 11  processing_time  148397 non-null  int64  \n",
            " 12  selling_price    148396 non-null  float64\n",
            "dtypes: float64(7), int64(3), object(3)\n",
            "memory usage: 14.7+ MB\n"
          ]
        }
      ],
      "source": [
        "copper2.info()"
      ]
    },
    {
      "cell_type": "markdown",
      "metadata": {
        "id": "Sx5KLSJYCgET"
      },
      "source": [
        "## Cleaning Country"
      ]
    },
    {
      "cell_type": "code",
      "execution_count": 251,
      "metadata": {
        "colab": {
          "base_uri": "https://localhost:8080/"
        },
        "id": "4Xz0Opb9CWqz",
        "outputId": "f46da21b-4850-4497-fffb-bf780e0d1ca5"
      },
      "outputs": [
        {
          "output_type": "execute_result",
          "data": {
            "text/plain": [
              "78.00     27465\n",
              "26.00     22430\n",
              "25.00     19709\n",
              "32.00     17522\n",
              "27.00     13605\n",
              "28.00     13065\n",
              "84.00      9823\n",
              "77.00      9065\n",
              "30.00      7273\n",
              "39.00      2745\n",
              "79.00      1632\n",
              "38.00      1301\n",
              "40.00      1273\n",
              "80.00       792\n",
              "113.00      603\n",
              "89.00        88\n",
              "NaN           4\n",
              "107.00        2\n",
              "Name: country, dtype: int64"
            ]
          },
          "metadata": {},
          "execution_count": 251
        }
      ],
      "source": [
        "copper2['country'].value_counts(dropna=False)"
      ]
    },
    {
      "cell_type": "code",
      "source": [
        "copper2 = copper2.dropna(subset=['country']).reset_index(drop=True)"
      ],
      "metadata": {
        "id": "PMvwVsZqrW7Y"
      },
      "execution_count": 252,
      "outputs": []
    },
    {
      "cell_type": "code",
      "source": [
        "copper2['country'] = copper2['country'].astype(int)\n",
        "copper2['country'].dtype"
      ],
      "metadata": {
        "colab": {
          "base_uri": "https://localhost:8080/"
        },
        "id": "TzJSLbVKrv-c",
        "outputId": "20ea7251-855d-4105-c426-407aa1f030d9"
      },
      "execution_count": 253,
      "outputs": [
        {
          "output_type": "execute_result",
          "data": {
            "text/plain": [
              "dtype('int64')"
            ]
          },
          "metadata": {},
          "execution_count": 253
        }
      ]
    },
    {
      "cell_type": "markdown",
      "metadata": {
        "id": "iDrUrJROJQ14"
      },
      "source": [
        "## Cleaning item_type"
      ]
    },
    {
      "cell_type": "code",
      "execution_count": 254,
      "metadata": {
        "colab": {
          "base_uri": "https://localhost:8080/"
        },
        "id": "1vHMz5fgJBZc",
        "outputId": "6271120e-1c00-4bb8-972d-621c3a230dd7"
      },
      "outputs": [
        {
          "output_type": "execute_result",
          "data": {
            "text/plain": [
              "W         90090\n",
              "S         52461\n",
              "PL         4847\n",
              "WI          504\n",
              "Others      463\n",
              "IPL          27\n",
              "SLAWR         1\n",
              "Name: item_type, dtype: int64"
            ]
          },
          "metadata": {},
          "execution_count": 254
        }
      ],
      "source": [
        "copper2['item_type'].value_counts(dropna=False)"
      ]
    },
    {
      "cell_type": "code",
      "source": [
        "# Drop rows where 'item_type' is 'IPL' or 'SLAWR'\n",
        "copper2 = copper2[(copper2['item_type'] != 'IPL') & (copper2['item_type'] != 'SLAWR')]\n",
        "copper2 = copper2.reset_index(drop=True)"
      ],
      "metadata": {
        "id": "D2D3es2Xxcl9"
      },
      "execution_count": 255,
      "outputs": []
    },
    {
      "cell_type": "code",
      "source": [
        "copper2['item_type'] = copper2['item_type'].map({'W':1,'S':2,'PL':3,'WI':4,'Others':5})\n",
        "copper2['item_type'].value_counts(dropna=False)"
      ],
      "metadata": {
        "id": "eGebOZ4Ete2h",
        "colab": {
          "base_uri": "https://localhost:8080/"
        },
        "outputId": "95bc019c-41a5-4c95-d3c8-99d284ddcf2f"
      },
      "execution_count": 256,
      "outputs": [
        {
          "output_type": "execute_result",
          "data": {
            "text/plain": [
              "1    90090\n",
              "2    52461\n",
              "3     4847\n",
              "4      504\n",
              "5      463\n",
              "Name: item_type, dtype: int64"
            ]
          },
          "metadata": {},
          "execution_count": 256
        }
      ]
    },
    {
      "cell_type": "code",
      "execution_count": 257,
      "metadata": {
        "colab": {
          "base_uri": "https://localhost:8080/"
        },
        "id": "zRq9x8RTJXfK",
        "outputId": "b6dbe536-c6ac-4c3c-c59d-fd5abd244a9b"
      },
      "outputs": [
        {
          "output_type": "stream",
          "name": "stdout",
          "text": [
            "<class 'pandas.core.frame.DataFrame'>\n",
            "RangeIndex: 148365 entries, 0 to 148364\n",
            "Data columns (total 13 columns):\n",
            " #   Column           Non-Null Count   Dtype  \n",
            "---  ------           --------------   -----  \n",
            " 0   item_date        148365 non-null  object \n",
            " 1   quantity_tons    148365 non-null  float64\n",
            " 2   customer         148364 non-null  float64\n",
            " 3   country          148365 non-null  int64  \n",
            " 4   status           148365 non-null  int64  \n",
            " 5   item_type        148365 non-null  int64  \n",
            " 6   application      148365 non-null  float64\n",
            " 7   thickness        148365 non-null  float64\n",
            " 8   width            148365 non-null  float64\n",
            " 9   product_ref      148365 non-null  int64  \n",
            " 10  delivery_date    148365 non-null  object \n",
            " 11  processing_time  148365 non-null  int64  \n",
            " 12  selling_price    148364 non-null  float64\n",
            "dtypes: float64(6), int64(5), object(2)\n",
            "memory usage: 14.7+ MB\n"
          ]
        }
      ],
      "source": [
        "copper2.info()"
      ]
    },
    {
      "cell_type": "markdown",
      "source": [
        "## Cleaning application"
      ],
      "metadata": {
        "id": "QWH309qTyuVj"
      }
    },
    {
      "cell_type": "code",
      "source": [
        "copper2['application'][:5]"
      ],
      "metadata": {
        "colab": {
          "base_uri": "https://localhost:8080/"
        },
        "id": "xoTzYIgEytbB",
        "outputId": "90dcfd4f-b525-4d03-b30b-4bb4296a1753"
      },
      "execution_count": 258,
      "outputs": [
        {
          "output_type": "execute_result",
          "data": {
            "text/plain": [
              "0   10.00\n",
              "1   41.00\n",
              "2   28.00\n",
              "3   59.00\n",
              "4   10.00\n",
              "Name: application, dtype: float64"
            ]
          },
          "metadata": {},
          "execution_count": 258
        }
      ]
    },
    {
      "cell_type": "code",
      "source": [
        "copper2['application'] = copper2['application'].astype(int)"
      ],
      "metadata": {
        "id": "11ziavsnzBVW"
      },
      "execution_count": 259,
      "outputs": []
    },
    {
      "cell_type": "code",
      "execution_count": 260,
      "metadata": {
        "colab": {
          "base_uri": "https://localhost:8080/"
        },
        "id": "NBJMfRrJJnZQ",
        "outputId": "9895aec7-49c2-4aed-91f4-ac26e6175640"
      },
      "outputs": [
        {
          "output_type": "execute_result",
          "data": {
            "text/plain": [
              "0    10\n",
              "1    41\n",
              "2    28\n",
              "3    59\n",
              "4    10\n",
              "Name: application, dtype: int64"
            ]
          },
          "metadata": {},
          "execution_count": 260
        }
      ],
      "source": [
        "copper2['application'][:5]"
      ]
    },
    {
      "cell_type": "markdown",
      "metadata": {
        "id": "TGY13LC-6qoA"
      },
      "source": [
        "## Cleaning Thickness"
      ]
    },
    {
      "cell_type": "code",
      "execution_count": 261,
      "metadata": {
        "colab": {
          "base_uri": "https://localhost:8080/"
        },
        "id": "9uzWZZ9V63pe",
        "outputId": "fc21e756-4733-419d-cd21-c12829b7f46d"
      },
      "outputs": [
        {
          "output_type": "execute_result",
          "data": {
            "text/plain": [
              "2.00        11109\n",
              "3.00        11071\n",
              "1.50         9644\n",
              "0.50         8996\n",
              "1.00         7786\n",
              "4.00         7600\n",
              "2.50         5982\n",
              "0.60         5824\n",
              "5.00         5537\n",
              "6.00         4777\n",
              "0.80         4643\n",
              "0.70         4423\n",
              "8.00         3090\n",
              "1.25         2957\n",
              "0.75         2589\n",
              "0.45         2575\n",
              "0.55         2503\n",
              "10.00        2172\n",
              "1.20         2078\n",
              "0.90         1984\n",
              "0.40         1599\n",
              "12.00        1258\n",
              "3.50         1128\n",
              "1.80         1110\n",
              "0.74          986\n",
              "0.47          973\n",
              "0.63          965\n",
              "15.00         868\n",
              "0.62          752\n",
              "0.68          690\n",
              "0.59          679\n",
              "1.75          652\n",
              "1.40          652\n",
              "0.43          644\n",
              "0.48          643\n",
              "0.88          615\n",
              "1.15          615\n",
              "1.60          566\n",
              "0.65          535\n",
              "0.58          533\n",
              "9.99          486\n",
              "7.00          456\n",
              "4.50          444\n",
              "1.45          444\n",
              "1.90          427\n",
              "0.95          389\n",
              "0.42          382\n",
              "2.90          367\n",
              "2.80          360\n",
              "0.72          358\n",
              "0.35          345\n",
              "0.32          334\n",
              "11.99         329\n",
              "2.60          325\n",
              "1.95          307\n",
              "14.99         298\n",
              "0.53          294\n",
              "0.97          293\n",
              "2.75          290\n",
              "20.00         287\n",
              "2.20          276\n",
              "1.85          270\n",
              "0.30          270\n",
              "0.57          259\n",
              "7.99          258\n",
              "1.70          257\n",
              "0.38          253\n",
              "0.85          248\n",
              "2.40          241\n",
              "2.25          238\n",
              "2.99          231\n",
              "0.47          223\n",
              "1.10          217\n",
              "3.20          215\n",
              "1.42          208\n",
              "1.12          205\n",
              "1.30          205\n",
              "3.80          204\n",
              "5.50          173\n",
              "0.56          173\n",
              "2.30          172\n",
              "2.70          163\n",
              "4.80          159\n",
              "7.50          145\n",
              "1.88          143\n",
              "0.46          139\n",
              "0.52          134\n",
              "0.37          131\n",
              "3.65          130\n",
              "3.70          130\n",
              "2.45          130\n",
              "5.80          126\n",
              "3.90          121\n",
              "0.81          118\n",
              "1.65          116\n",
              "0.96          116\n",
              "4.95          113\n",
              "2.15          112\n",
              "5.95          111\n",
              "3.40          110\n",
              "0.73          109\n",
              "1.04          109\n",
              "1.11          109\n",
              "1.02          108\n",
              "5.90          106\n",
              "4.90          104\n",
              "6.99          103\n",
              "6.50          102\n",
              "2.10          102\n",
              "7.95          101\n",
              "9.95          101\n",
              "9.60          100\n",
              "2.85          100\n",
              "9.50           99\n",
              "0.64           95\n",
              "4.75           95\n",
              "7.60           94\n",
              "2.95           93\n",
              "3.95           92\n",
              "1.13           92\n",
              "3.25           89\n",
              "0.51           88\n",
              "2.35           88\n",
              "11.95          88\n",
              "0.76           84\n",
              "1.47           82\n",
              "0.87           78\n",
              "6.35           77\n",
              "1.18           77\n",
              "1.03           76\n",
              "2.05           76\n",
              "3.75           74\n",
              "1.55           74\n",
              "9.00           74\n",
              "1.86           74\n",
              "0.84           73\n",
              "5.85           70\n",
              "0.69           70\n",
              "0.71           69\n",
              "0.18           68\n",
              "0.94           68\n",
              "0.66           68\n",
              "5.60           68\n",
              "1.46           67\n",
              "14.95          66\n",
              "2.55           66\n",
              "1.53           65\n",
              "0.28           65\n",
              "1.44           63\n",
              "16.00          63\n",
              "3.85           63\n",
              "4.60           63\n",
              "6.80           61\n",
              "0.93           60\n",
              "2.65           59\n",
              "2.42           58\n",
              "0.98           57\n",
              "4.55           56\n",
              "1.16           55\n",
              "3.01           55\n",
              "1.22           55\n",
              "1.35           54\n",
              "0.83           54\n",
              "0.36           52\n",
              "9.90           52\n",
              "7.90           52\n",
              "2.79           50\n",
              "0.34           50\n",
              "0.33           49\n",
              "1.27           47\n",
              "1.87           47\n",
              "3.30           47\n",
              "19.99          46\n",
              "1.17           46\n",
              "1.99           45\n",
              "6.10           44\n",
              "5.40           44\n",
              "0.54           44\n",
              "1.92           43\n",
              "1.36           43\n",
              "11.90          42\n",
              "4.30           42\n",
              "3.60           41\n",
              "4.70           41\n",
              "0.61           41\n",
              "0.47           40\n",
              "7.80           40\n",
              "4.20           40\n",
              "0.41           40\n",
              "0.78           39\n",
              "4.40           39\n",
              "1.26           39\n",
              "0.67           38\n",
              "1.14           38\n",
              "5.10           38\n",
              "5.70           37\n",
              "7.20           37\n",
              "1.96           37\n",
              "6.06           37\n",
              "13.00          36\n",
              "3.51           36\n",
              "2.33           36\n",
              "2.81           35\n",
              "0.19           35\n",
              "2.87           35\n",
              "1.43           35\n",
              "0.82           34\n",
              "1.56           33\n",
              "1.54           33\n",
              "0.68           33\n",
              "4.85           32\n",
              "1.31           32\n",
              "2.03           32\n",
              "1.06           32\n",
              "8.06           32\n",
              "4.51           31\n",
              "1.82           31\n",
              "0.77           31\n",
              "18.00          30\n",
              "2.88           30\n",
              "3.10           29\n",
              "4.01           29\n",
              "5.30           28\n",
              "14.00          28\n",
              "1.89           28\n",
              "1.37           27\n",
              "0.20           27\n",
              "0.56           26\n",
              "5.27           26\n",
              "8.90           25\n",
              "0.25           25\n",
              "3.05           25\n",
              "0.92           25\n",
              "6.70           25\n",
              "5.06           24\n",
              "0.88           24\n",
              "3.45           24\n",
              "5.75           24\n",
              "5.55           24\n",
              "3.31           24\n",
              "2.01           24\n",
              "14.70          24\n",
              "1.76           23\n",
              "0.21           23\n",
              "1.09           23\n",
              "1.08           22\n",
              "12.10          22\n",
              "1.41           22\n",
              "11.20          22\n",
              "0.31           22\n",
              "2.53           22\n",
              "1.61           22\n",
              "5.20           22\n",
              "1.94           22\n",
              "1.33           21\n",
              "4.25           21\n",
              "0.44           21\n",
              "1.81           21\n",
              "6.30           21\n",
              "8.75           21\n",
              "3.03           20\n",
              "1.38           20\n",
              "1.93           19\n",
              "15.50          19\n",
              "2.38           19\n",
              "9.70           19\n",
              "6.55           19\n",
              "2.91           18\n",
              "1.71           18\n",
              "3.63           18\n",
              "1.98           18\n",
              "14.90          17\n",
              "2.61           17\n",
              "2.18           16\n",
              "2.06           16\n",
              "2.72           16\n",
              "2.13           16\n",
              "11.80          16\n",
              "9.80           16\n",
              "8.80           16\n",
              "4.98           16\n",
              "6.20           16\n",
              "4.10           15\n",
              "0.86           15\n",
              "25.00          15\n",
              "4.06           15\n",
              "3.15           15\n",
              "0.95           15\n",
              "3.35           15\n",
              "3.06           15\n",
              "1.97           15\n",
              "1.32           15\n",
              "2.08           15\n",
              "3.86           15\n",
              "1.48           15\n",
              "1.63           15\n",
              "3.55           15\n",
              "2.54           14\n",
              "15.10          14\n",
              "7.70           14\n",
              "8.60           14\n",
              "0.89           14\n",
              "4.04           14\n",
              "11.00          14\n",
              "1.21           14\n",
              "2.73           13\n",
              "2.64           13\n",
              "2.43           13\n",
              "1.52           13\n",
              "4.43           13\n",
              "2.63           13\n",
              "2.96           12\n",
              "7.85           12\n",
              "9.66           12\n",
              "2.89           12\n",
              "2.93           12\n",
              "1.34           12\n",
              "1.51           12\n",
              "2.44           12\n",
              "22.00          12\n",
              "1.24           12\n",
              "5.91           11\n",
              "3.47           11\n",
              "2.51           11\n",
              "4.74           11\n",
              "3.61           11\n",
              "5.98           11\n",
              "1.57           11\n",
              "1.73           11\n",
              "6.90           11\n",
              "2.78           10\n",
              "2.59           10\n",
              "2.07           10\n",
              "14.98          10\n",
              "1.23           10\n",
              "5.15            9\n",
              "10.90           9\n",
              "0.49            9\n",
              "1.77            9\n",
              "15.58           9\n",
              "2.56            9\n",
              "1.68            9\n",
              "4.21            9\n",
              "0.29            9\n",
              "12.07           9\n",
              "4.58            9\n",
              "2.68            9\n",
              "2.52            9\n",
              "5.51            9\n",
              "2.02            9\n",
              "6.40            9\n",
              "2.94            9\n",
              "1.05            9\n",
              "24.98           9\n",
              "3.07            8\n",
              "2.32            8\n",
              "14.80           8\n",
              "7.40            8\n",
              "6.95            8\n",
              "4.73            8\n",
              "5.05            8\n",
              "23.00           8\n",
              "3.66            8\n",
              "8.20            8\n",
              "1.84            8\n",
              "2.67            8\n",
              "1.78            8\n",
              "5.87            8\n",
              "4.15            8\n",
              "13.50           8\n",
              "1.74            7\n",
              "9.85            7\n",
              "19.90           7\n",
              "4.63            7\n",
              "24.00           7\n",
              "3.76            7\n",
              "5.58            7\n",
              "1.28            7\n",
              "1.01            7\n",
              "2.41            7\n",
              "2.46            7\n",
              "3.48            7\n",
              "0.79            7\n",
              "4.45            7\n",
              "4.05            7\n",
              "6.60            7\n",
              "5.12            6\n",
              "4.18            6\n",
              "6.25            6\n",
              "2.24            6\n",
              "12.15           6\n",
              "3.71            6\n",
              "1.67            6\n",
              "2.77            6\n",
              "2.71            6\n",
              "2.92            6\n",
              "2.37            6\n",
              "3.73            6\n",
              "1.58            5\n",
              "3.18            5\n",
              "6.05            5\n",
              "2.26            5\n",
              "11.50           5\n",
              "0.27            5\n",
              "11.85           5\n",
              "3.54            5\n",
              "3.59            5\n",
              "9.58            5\n",
              "7.45            5\n",
              "10.10           5\n",
              "2.97            5\n",
              "3.81            4\n",
              "0.42            4\n",
              "2.31            4\n",
              "2.23            4\n",
              "2.11            4\n",
              "6.75            4\n",
              "4.35            4\n",
              "5.66            4\n",
              "4.17            4\n",
              "2.47            4\n",
              "24.99           4\n",
              "8.50            4\n",
              "5.88            4\n",
              "12.50           4\n",
              "1.62            4\n",
              "3.33            4\n",
              "1.45            4\n",
              "2.12            4\n",
              "2.49            4\n",
              "0.84            4\n",
              "25.40           3\n",
              "8.05            3\n",
              "1.18            3\n",
              "1.83            3\n",
              "3.98            3\n",
              "12.80           3\n",
              "7.30            3\n",
              "2.39            3\n",
              "1.07            3\n",
              "2.82            3\n",
              "11.88           3\n",
              "3.23            3\n",
              "5.64            3\n",
              "4.88            3\n",
              "4.65            3\n",
              "3.92            3\n",
              "1.17            3\n",
              "3.32            3\n",
              "12.70           3\n",
              "3.62            3\n",
              "21.00           3\n",
              "14.20           3\n",
              "19.50           3\n",
              "2.83            3\n",
              "8.30            3\n",
              "24.50           3\n",
              "7.77            3\n",
              "2.62            3\n",
              "5.45            3\n",
              "9.98            3\n",
              "3.29            2\n",
              "9.57            2\n",
              "11.40           2\n",
              "9.42            2\n",
              "9.59            2\n",
              "15.05           2\n",
              "19.58           2\n",
              "17.48           2\n",
              "19.68           2\n",
              "9.53            2\n",
              "7.25            2\n",
              "4.94            2\n",
              "5.96            2\n",
              "4.97            2\n",
              "6.45            2\n",
              "12.05           2\n",
              "5.84            2\n",
              "11.70           2\n",
              "9.40            2\n",
              "5.68            2\n",
              "5.65            2\n",
              "0.66            2\n",
              "10.80           2\n",
              "5.25            2\n",
              "17.50           2\n",
              "3.57            2\n",
              "3.87            2\n",
              "3.08            2\n",
              "1.72            2\n",
              "3.13            2\n",
              "0.99            2\n",
              "2.48            2\n",
              "3.78            2\n",
              "1.91            2\n",
              "3.88            2\n",
              "3.38            2\n",
              "5.53            2\n",
              "4.66            2\n",
              "5.99            1\n",
              "4.52            1\n",
              "0.97            1\n",
              "3.82            1\n",
              "1.79            1\n",
              "7.61            1\n",
              "19.05           1\n",
              "13.32           1\n",
              "15.88           1\n",
              "6.15            1\n",
              "8.18            1\n",
              "0.91            1\n",
              "18.73           1\n",
              "5.21            1\n",
              "4.56            1\n",
              "4.29            1\n",
              "19.00           1\n",
              "13.99           1\n",
              "25.50           1\n",
              "1.29            1\n",
              "1.64            1\n",
              "5.04            1\n",
              "2.86            1\n",
              "2.36            1\n",
              "6.09            1\n",
              "3.36            1\n",
              "8.10            1\n",
              "1.19            1\n",
              "12.18           1\n",
              "4.09            1\n",
              "15.06           1\n",
              "9.27            1\n",
              "11.98           1\n",
              "4.99            1\n",
              "17.40           1\n",
              "16.20           1\n",
              "1.00            1\n",
              "3.68            1\n",
              "7.55            1\n",
              "7.06            1\n",
              "4.03            1\n",
              "15.95           1\n",
              "3.79            1\n",
              "5.74            1\n",
              "9.39            1\n",
              "7.35            1\n",
              "3.93            1\n",
              "1.49            1\n",
              "15.66           1\n",
              "12.30           1\n",
              "6.21            1\n",
              "3.96            1\n",
              "2.34            1\n",
              "0.59            1\n",
              "2,500.00        1\n",
              "7.58            1\n",
              "0.26            1\n",
              "2.76            1\n",
              "7.53            1\n",
              "19.98           1\n",
              "11.60           1\n",
              "2.17            1\n",
              "10.01           1\n",
              "2.08            1\n",
              "12.16           1\n",
              "400.00          1\n",
              "10.50           1\n",
              "0.48            1\n",
              "6.01            1\n",
              "15.60           1\n",
              "Name: thickness, dtype: int64"
            ]
          },
          "metadata": {},
          "execution_count": 261
        }
      ],
      "source": [
        "copper2['thickness'].value_counts(dropna=False)"
      ]
    },
    {
      "cell_type": "code",
      "execution_count": 262,
      "metadata": {
        "colab": {
          "base_uri": "https://localhost:8080/"
        },
        "id": "GXK5iZ3n7QeP",
        "outputId": "100918b0-b9ac-4a79-c3db-08ddb3f2d467"
      },
      "outputs": [
        {
          "output_type": "execute_result",
          "data": {
            "text/plain": [
              "1,250.00    30833\n",
              "1,500.00    27401\n",
              "1,000.00    10297\n",
              "2,000.00     6585\n",
              "1,220.00     4307\n",
              "            ...  \n",
              "1.00            1\n",
              "606.00          1\n",
              "738.00          1\n",
              "656.00          1\n",
              "1,786.00        1\n",
              "Name: width, Length: 1347, dtype: int64"
            ]
          },
          "metadata": {},
          "execution_count": 262
        }
      ],
      "source": [
        "copper2['width'].value_counts(dropna=False)"
      ]
    },
    {
      "cell_type": "code",
      "source": [
        "copper2['width'] = copper2['width'].astype(int)\n",
        "copper2['width'].dtype"
      ],
      "metadata": {
        "colab": {
          "base_uri": "https://localhost:8080/"
        },
        "id": "uu3_2BBOz041",
        "outputId": "8c41d697-9c49-4aff-ce65-26d8eda7c497"
      },
      "execution_count": 263,
      "outputs": [
        {
          "output_type": "execute_result",
          "data": {
            "text/plain": [
              "dtype('int64')"
            ]
          },
          "metadata": {},
          "execution_count": 263
        }
      ]
    },
    {
      "cell_type": "markdown",
      "metadata": {
        "id": "Ie4tLVhY-3IQ"
      },
      "source": [
        "## Cleaning selling_price"
      ]
    },
    {
      "cell_type": "code",
      "execution_count": 264,
      "metadata": {
        "colab": {
          "base_uri": "https://localhost:8080/"
        },
        "id": "lE1LuXGZpXzv",
        "outputId": "c457938b-8008-4c0d-ff87-9d9fec3ce197"
      },
      "outputs": [
        {
          "output_type": "execute_result",
          "data": {
            "text/plain": [
              "count   148,364.00\n",
              "mean        825.66\n",
              "std         291.94\n",
              "min      -1,160.00\n",
              "25%         671.00\n",
              "50%         811.00\n",
              "75%         951.00\n",
              "max      81,236.14\n",
              "Name: selling_price, dtype: float64"
            ]
          },
          "metadata": {},
          "execution_count": 264
        }
      ],
      "source": [
        "copper2['selling_price'].describe()"
      ]
    },
    {
      "cell_type": "markdown",
      "metadata": {
        "id": "YRdb_2fjNeke"
      },
      "source": [
        "**Interference:**\n",
        "* Minimum 'selling_price' is lessthan zero.\n",
        "* It should be always be positive.\n"
      ]
    },
    {
      "cell_type": "code",
      "execution_count": 265,
      "metadata": {
        "colab": {
          "base_uri": "https://localhost:8080/"
        },
        "id": "vGWbOk1_NaT9",
        "outputId": "791d54a4-f3f0-4926-b47a-514b08868d90"
      },
      "outputs": [
        {
          "output_type": "execute_result",
          "data": {
            "text/plain": [
              "(148357, 13)"
            ]
          },
          "metadata": {},
          "execution_count": 265
        }
      ],
      "source": [
        "# Fixing the min value as 100 for selling_price\n",
        "copper2 = copper2[(copper2['selling_price'] >= 100)]\n",
        "copper2 = copper2.reset_index(drop=True)\n",
        "copper2.shape"
      ]
    },
    {
      "cell_type": "code",
      "source": [
        "copper2.isnull().sum()"
      ],
      "metadata": {
        "colab": {
          "base_uri": "https://localhost:8080/"
        },
        "id": "7bukiLdQ8s8m",
        "outputId": "6ddce777-7957-4ed4-dce9-08bb02e26501"
      },
      "execution_count": 266,
      "outputs": [
        {
          "output_type": "execute_result",
          "data": {
            "text/plain": [
              "item_date          0\n",
              "quantity_tons      0\n",
              "customer           1\n",
              "country            0\n",
              "status             0\n",
              "item_type          0\n",
              "application        0\n",
              "thickness          0\n",
              "width              0\n",
              "product_ref        0\n",
              "delivery_date      0\n",
              "processing_time    0\n",
              "selling_price      0\n",
              "dtype: int64"
            ]
          },
          "metadata": {},
          "execution_count": 266
        }
      ]
    },
    {
      "cell_type": "markdown",
      "source": [
        "The NaN values in these columns cannot be filled"
      ],
      "metadata": {
        "id": "6DM92G2_9lJk"
      }
    },
    {
      "cell_type": "code",
      "source": [
        "# dropping the records having null values\n",
        "copper2 = copper2.dropna(subset=['customer','country','application'])"
      ],
      "metadata": {
        "id": "s5RpAujg9CKC"
      },
      "execution_count": 267,
      "outputs": []
    },
    {
      "cell_type": "code",
      "source": [
        "copper2.isnull().sum()"
      ],
      "metadata": {
        "colab": {
          "base_uri": "https://localhost:8080/"
        },
        "id": "kUgSEYiK9gmy",
        "outputId": "d6b78683-751d-4a5f-a2c3-7f4c8d68d786"
      },
      "execution_count": 268,
      "outputs": [
        {
          "output_type": "execute_result",
          "data": {
            "text/plain": [
              "item_date          0\n",
              "quantity_tons      0\n",
              "customer           0\n",
              "country            0\n",
              "status             0\n",
              "item_type          0\n",
              "application        0\n",
              "thickness          0\n",
              "width              0\n",
              "product_ref        0\n",
              "delivery_date      0\n",
              "processing_time    0\n",
              "selling_price      0\n",
              "dtype: int64"
            ]
          },
          "metadata": {},
          "execution_count": 268
        }
      ]
    },
    {
      "cell_type": "markdown",
      "source": [
        "## Cleaning Customer"
      ],
      "metadata": {
        "id": "OxUXq_XV04T-"
      }
    },
    {
      "cell_type": "code",
      "source": [
        "copper2['customer'][:5]"
      ],
      "metadata": {
        "colab": {
          "base_uri": "https://localhost:8080/"
        },
        "id": "Azo35LIw03s1",
        "outputId": "baf816c6-d5e5-4d18-f312-4982bfafcd5d"
      },
      "execution_count": 269,
      "outputs": [
        {
          "output_type": "execute_result",
          "data": {
            "text/plain": [
              "0   30,156,308.00\n",
              "1   30,202,938.00\n",
              "2   30,153,963.00\n",
              "3   30,349,574.00\n",
              "4   30,211,560.00\n",
              "Name: customer, dtype: float64"
            ]
          },
          "metadata": {},
          "execution_count": 269
        }
      ]
    },
    {
      "cell_type": "code",
      "source": [
        "copper2['customer'] = copper2['customer'].astype(int)\n",
        "copper2['customer'].dtype"
      ],
      "metadata": {
        "colab": {
          "base_uri": "https://localhost:8080/"
        },
        "id": "hDbi1UxF1IQU",
        "outputId": "2e828527-70f8-4c8d-f358-869267a9d3ba"
      },
      "execution_count": 270,
      "outputs": [
        {
          "output_type": "execute_result",
          "data": {
            "text/plain": [
              "dtype('int64')"
            ]
          },
          "metadata": {},
          "execution_count": 270
        }
      ]
    },
    {
      "cell_type": "code",
      "source": [
        "copper2.head()"
      ],
      "metadata": {
        "colab": {
          "base_uri": "https://localhost:8080/",
          "height": 0
        },
        "id": "qe_LtcwW49mk",
        "outputId": "90418f0b-79cf-4506-eb9b-28ab5544d9ed"
      },
      "execution_count": 271,
      "outputs": [
        {
          "output_type": "execute_result",
          "data": {
            "text/plain": [
              "    item_date  quantity_tons  customer  country  status  item_type  \\\n",
              "0  2021-04-01          54.15  30156308       28       1          1   \n",
              "1  2021-04-01         768.02  30202938       25       1          1   \n",
              "2  2021-04-01         386.13  30153963       30       1          4   \n",
              "3  2021-04-01         202.41  30349574       32       1          2   \n",
              "4  2021-04-01         785.53  30211560       28       1          1   \n",
              "\n",
              "   application  thickness  width  product_ref delivery_date  processing_time  \\\n",
              "0           10       2.00   1500   1670798778    2021-07-01               91   \n",
              "1           41       0.80   1210   1668701718    2021-04-01                0   \n",
              "2           28       0.38    952       628377    2021-01-01              -90   \n",
              "3           59       2.30   1317   1668701718    2021-01-01              -90   \n",
              "4           10       4.00   2000       640665    2021-03-01              -31   \n",
              "\n",
              "   selling_price  \n",
              "0         854.00  \n",
              "1       1,047.00  \n",
              "2         644.33  \n",
              "3         768.00  \n",
              "4         577.00  "
            ],
            "text/html": [
              "\n",
              "  <div id=\"df-6dd91a17-51bc-4114-858c-93add711f46c\" class=\"colab-df-container\">\n",
              "    <div>\n",
              "<style scoped>\n",
              "    .dataframe tbody tr th:only-of-type {\n",
              "        vertical-align: middle;\n",
              "    }\n",
              "\n",
              "    .dataframe tbody tr th {\n",
              "        vertical-align: top;\n",
              "    }\n",
              "\n",
              "    .dataframe thead th {\n",
              "        text-align: right;\n",
              "    }\n",
              "</style>\n",
              "<table border=\"1\" class=\"dataframe\">\n",
              "  <thead>\n",
              "    <tr style=\"text-align: right;\">\n",
              "      <th></th>\n",
              "      <th>item_date</th>\n",
              "      <th>quantity_tons</th>\n",
              "      <th>customer</th>\n",
              "      <th>country</th>\n",
              "      <th>status</th>\n",
              "      <th>item_type</th>\n",
              "      <th>application</th>\n",
              "      <th>thickness</th>\n",
              "      <th>width</th>\n",
              "      <th>product_ref</th>\n",
              "      <th>delivery_date</th>\n",
              "      <th>processing_time</th>\n",
              "      <th>selling_price</th>\n",
              "    </tr>\n",
              "  </thead>\n",
              "  <tbody>\n",
              "    <tr>\n",
              "      <th>0</th>\n",
              "      <td>2021-04-01</td>\n",
              "      <td>54.15</td>\n",
              "      <td>30156308</td>\n",
              "      <td>28</td>\n",
              "      <td>1</td>\n",
              "      <td>1</td>\n",
              "      <td>10</td>\n",
              "      <td>2.00</td>\n",
              "      <td>1500</td>\n",
              "      <td>1670798778</td>\n",
              "      <td>2021-07-01</td>\n",
              "      <td>91</td>\n",
              "      <td>854.00</td>\n",
              "    </tr>\n",
              "    <tr>\n",
              "      <th>1</th>\n",
              "      <td>2021-04-01</td>\n",
              "      <td>768.02</td>\n",
              "      <td>30202938</td>\n",
              "      <td>25</td>\n",
              "      <td>1</td>\n",
              "      <td>1</td>\n",
              "      <td>41</td>\n",
              "      <td>0.80</td>\n",
              "      <td>1210</td>\n",
              "      <td>1668701718</td>\n",
              "      <td>2021-04-01</td>\n",
              "      <td>0</td>\n",
              "      <td>1,047.00</td>\n",
              "    </tr>\n",
              "    <tr>\n",
              "      <th>2</th>\n",
              "      <td>2021-04-01</td>\n",
              "      <td>386.13</td>\n",
              "      <td>30153963</td>\n",
              "      <td>30</td>\n",
              "      <td>1</td>\n",
              "      <td>4</td>\n",
              "      <td>28</td>\n",
              "      <td>0.38</td>\n",
              "      <td>952</td>\n",
              "      <td>628377</td>\n",
              "      <td>2021-01-01</td>\n",
              "      <td>-90</td>\n",
              "      <td>644.33</td>\n",
              "    </tr>\n",
              "    <tr>\n",
              "      <th>3</th>\n",
              "      <td>2021-04-01</td>\n",
              "      <td>202.41</td>\n",
              "      <td>30349574</td>\n",
              "      <td>32</td>\n",
              "      <td>1</td>\n",
              "      <td>2</td>\n",
              "      <td>59</td>\n",
              "      <td>2.30</td>\n",
              "      <td>1317</td>\n",
              "      <td>1668701718</td>\n",
              "      <td>2021-01-01</td>\n",
              "      <td>-90</td>\n",
              "      <td>768.00</td>\n",
              "    </tr>\n",
              "    <tr>\n",
              "      <th>4</th>\n",
              "      <td>2021-04-01</td>\n",
              "      <td>785.53</td>\n",
              "      <td>30211560</td>\n",
              "      <td>28</td>\n",
              "      <td>1</td>\n",
              "      <td>1</td>\n",
              "      <td>10</td>\n",
              "      <td>4.00</td>\n",
              "      <td>2000</td>\n",
              "      <td>640665</td>\n",
              "      <td>2021-03-01</td>\n",
              "      <td>-31</td>\n",
              "      <td>577.00</td>\n",
              "    </tr>\n",
              "  </tbody>\n",
              "</table>\n",
              "</div>\n",
              "    <div class=\"colab-df-buttons\">\n",
              "\n",
              "  <div class=\"colab-df-container\">\n",
              "    <button class=\"colab-df-convert\" onclick=\"convertToInteractive('df-6dd91a17-51bc-4114-858c-93add711f46c')\"\n",
              "            title=\"Convert this dataframe to an interactive table.\"\n",
              "            style=\"display:none;\">\n",
              "\n",
              "  <svg xmlns=\"http://www.w3.org/2000/svg\" height=\"24px\" viewBox=\"0 -960 960 960\">\n",
              "    <path d=\"M120-120v-720h720v720H120Zm60-500h600v-160H180v160Zm220 220h160v-160H400v160Zm0 220h160v-160H400v160ZM180-400h160v-160H180v160Zm440 0h160v-160H620v160ZM180-180h160v-160H180v160Zm440 0h160v-160H620v160Z\"/>\n",
              "  </svg>\n",
              "    </button>\n",
              "\n",
              "  <style>\n",
              "    .colab-df-container {\n",
              "      display:flex;\n",
              "      gap: 12px;\n",
              "    }\n",
              "\n",
              "    .colab-df-convert {\n",
              "      background-color: #E8F0FE;\n",
              "      border: none;\n",
              "      border-radius: 50%;\n",
              "      cursor: pointer;\n",
              "      display: none;\n",
              "      fill: #1967D2;\n",
              "      height: 32px;\n",
              "      padding: 0 0 0 0;\n",
              "      width: 32px;\n",
              "    }\n",
              "\n",
              "    .colab-df-convert:hover {\n",
              "      background-color: #E2EBFA;\n",
              "      box-shadow: 0px 1px 2px rgba(60, 64, 67, 0.3), 0px 1px 3px 1px rgba(60, 64, 67, 0.15);\n",
              "      fill: #174EA6;\n",
              "    }\n",
              "\n",
              "    .colab-df-buttons div {\n",
              "      margin-bottom: 4px;\n",
              "    }\n",
              "\n",
              "    [theme=dark] .colab-df-convert {\n",
              "      background-color: #3B4455;\n",
              "      fill: #D2E3FC;\n",
              "    }\n",
              "\n",
              "    [theme=dark] .colab-df-convert:hover {\n",
              "      background-color: #434B5C;\n",
              "      box-shadow: 0px 1px 3px 1px rgba(0, 0, 0, 0.15);\n",
              "      filter: drop-shadow(0px 1px 2px rgba(0, 0, 0, 0.3));\n",
              "      fill: #FFFFFF;\n",
              "    }\n",
              "  </style>\n",
              "\n",
              "    <script>\n",
              "      const buttonEl =\n",
              "        document.querySelector('#df-6dd91a17-51bc-4114-858c-93add711f46c button.colab-df-convert');\n",
              "      buttonEl.style.display =\n",
              "        google.colab.kernel.accessAllowed ? 'block' : 'none';\n",
              "\n",
              "      async function convertToInteractive(key) {\n",
              "        const element = document.querySelector('#df-6dd91a17-51bc-4114-858c-93add711f46c');\n",
              "        const dataTable =\n",
              "          await google.colab.kernel.invokeFunction('convertToInteractive',\n",
              "                                                    [key], {});\n",
              "        if (!dataTable) return;\n",
              "\n",
              "        const docLinkHtml = 'Like what you see? Visit the ' +\n",
              "          '<a target=\"_blank\" href=https://colab.research.google.com/notebooks/data_table.ipynb>data table notebook</a>'\n",
              "          + ' to learn more about interactive tables.';\n",
              "        element.innerHTML = '';\n",
              "        dataTable['output_type'] = 'display_data';\n",
              "        await google.colab.output.renderOutput(dataTable, element);\n",
              "        const docLink = document.createElement('div');\n",
              "        docLink.innerHTML = docLinkHtml;\n",
              "        element.appendChild(docLink);\n",
              "      }\n",
              "    </script>\n",
              "  </div>\n",
              "\n",
              "\n",
              "<div id=\"df-4d13dd9b-51f0-49ce-8193-f95e89e486e6\">\n",
              "  <button class=\"colab-df-quickchart\" onclick=\"quickchart('df-4d13dd9b-51f0-49ce-8193-f95e89e486e6')\"\n",
              "            title=\"Suggest charts\"\n",
              "            style=\"display:none;\">\n",
              "\n",
              "<svg xmlns=\"http://www.w3.org/2000/svg\" height=\"24px\"viewBox=\"0 0 24 24\"\n",
              "     width=\"24px\">\n",
              "    <g>\n",
              "        <path d=\"M19 3H5c-1.1 0-2 .9-2 2v14c0 1.1.9 2 2 2h14c1.1 0 2-.9 2-2V5c0-1.1-.9-2-2-2zM9 17H7v-7h2v7zm4 0h-2V7h2v10zm4 0h-2v-4h2v4z\"/>\n",
              "    </g>\n",
              "</svg>\n",
              "  </button>\n",
              "\n",
              "<style>\n",
              "  .colab-df-quickchart {\n",
              "      --bg-color: #E8F0FE;\n",
              "      --fill-color: #1967D2;\n",
              "      --hover-bg-color: #E2EBFA;\n",
              "      --hover-fill-color: #174EA6;\n",
              "      --disabled-fill-color: #AAA;\n",
              "      --disabled-bg-color: #DDD;\n",
              "  }\n",
              "\n",
              "  [theme=dark] .colab-df-quickchart {\n",
              "      --bg-color: #3B4455;\n",
              "      --fill-color: #D2E3FC;\n",
              "      --hover-bg-color: #434B5C;\n",
              "      --hover-fill-color: #FFFFFF;\n",
              "      --disabled-bg-color: #3B4455;\n",
              "      --disabled-fill-color: #666;\n",
              "  }\n",
              "\n",
              "  .colab-df-quickchart {\n",
              "    background-color: var(--bg-color);\n",
              "    border: none;\n",
              "    border-radius: 50%;\n",
              "    cursor: pointer;\n",
              "    display: none;\n",
              "    fill: var(--fill-color);\n",
              "    height: 32px;\n",
              "    padding: 0;\n",
              "    width: 32px;\n",
              "  }\n",
              "\n",
              "  .colab-df-quickchart:hover {\n",
              "    background-color: var(--hover-bg-color);\n",
              "    box-shadow: 0 1px 2px rgba(60, 64, 67, 0.3), 0 1px 3px 1px rgba(60, 64, 67, 0.15);\n",
              "    fill: var(--button-hover-fill-color);\n",
              "  }\n",
              "\n",
              "  .colab-df-quickchart-complete:disabled,\n",
              "  .colab-df-quickchart-complete:disabled:hover {\n",
              "    background-color: var(--disabled-bg-color);\n",
              "    fill: var(--disabled-fill-color);\n",
              "    box-shadow: none;\n",
              "  }\n",
              "\n",
              "  .colab-df-spinner {\n",
              "    border: 2px solid var(--fill-color);\n",
              "    border-color: transparent;\n",
              "    border-bottom-color: var(--fill-color);\n",
              "    animation:\n",
              "      spin 1s steps(1) infinite;\n",
              "  }\n",
              "\n",
              "  @keyframes spin {\n",
              "    0% {\n",
              "      border-color: transparent;\n",
              "      border-bottom-color: var(--fill-color);\n",
              "      border-left-color: var(--fill-color);\n",
              "    }\n",
              "    20% {\n",
              "      border-color: transparent;\n",
              "      border-left-color: var(--fill-color);\n",
              "      border-top-color: var(--fill-color);\n",
              "    }\n",
              "    30% {\n",
              "      border-color: transparent;\n",
              "      border-left-color: var(--fill-color);\n",
              "      border-top-color: var(--fill-color);\n",
              "      border-right-color: var(--fill-color);\n",
              "    }\n",
              "    40% {\n",
              "      border-color: transparent;\n",
              "      border-right-color: var(--fill-color);\n",
              "      border-top-color: var(--fill-color);\n",
              "    }\n",
              "    60% {\n",
              "      border-color: transparent;\n",
              "      border-right-color: var(--fill-color);\n",
              "    }\n",
              "    80% {\n",
              "      border-color: transparent;\n",
              "      border-right-color: var(--fill-color);\n",
              "      border-bottom-color: var(--fill-color);\n",
              "    }\n",
              "    90% {\n",
              "      border-color: transparent;\n",
              "      border-bottom-color: var(--fill-color);\n",
              "    }\n",
              "  }\n",
              "</style>\n",
              "\n",
              "  <script>\n",
              "    async function quickchart(key) {\n",
              "      const quickchartButtonEl =\n",
              "        document.querySelector('#' + key + ' button');\n",
              "      quickchartButtonEl.disabled = true;  // To prevent multiple clicks.\n",
              "      quickchartButtonEl.classList.add('colab-df-spinner');\n",
              "      try {\n",
              "        const charts = await google.colab.kernel.invokeFunction(\n",
              "            'suggestCharts', [key], {});\n",
              "      } catch (error) {\n",
              "        console.error('Error during call to suggestCharts:', error);\n",
              "      }\n",
              "      quickchartButtonEl.classList.remove('colab-df-spinner');\n",
              "      quickchartButtonEl.classList.add('colab-df-quickchart-complete');\n",
              "    }\n",
              "    (() => {\n",
              "      let quickchartButtonEl =\n",
              "        document.querySelector('#df-4d13dd9b-51f0-49ce-8193-f95e89e486e6 button');\n",
              "      quickchartButtonEl.style.display =\n",
              "        google.colab.kernel.accessAllowed ? 'block' : 'none';\n",
              "    })();\n",
              "  </script>\n",
              "</div>\n",
              "\n",
              "    </div>\n",
              "  </div>\n"
            ]
          },
          "metadata": {},
          "execution_count": 271
        }
      ]
    },
    {
      "cell_type": "markdown",
      "metadata": {
        "id": "mDOCaX3yD-zU"
      },
      "source": [
        "# EDA"
      ]
    },
    {
      "cell_type": "code",
      "execution_count": 272,
      "metadata": {
        "id": "n0pawfk_QQNg"
      },
      "outputs": [],
      "source": [
        "copper3 = copper2.copy()"
      ]
    },
    {
      "cell_type": "code",
      "execution_count": 273,
      "metadata": {
        "colab": {
          "base_uri": "https://localhost:8080/"
        },
        "id": "SXRBpvIwQQNg",
        "outputId": "91d02f54-44d4-45cb-c67a-44d359c4ba19"
      },
      "outputs": [
        {
          "output_type": "stream",
          "name": "stdout",
          "text": [
            "<class 'pandas.core.frame.DataFrame'>\n",
            "Int64Index: 148356 entries, 0 to 148356\n",
            "Data columns (total 13 columns):\n",
            " #   Column           Non-Null Count   Dtype  \n",
            "---  ------           --------------   -----  \n",
            " 0   item_date        148356 non-null  object \n",
            " 1   quantity_tons    148356 non-null  float64\n",
            " 2   customer         148356 non-null  int64  \n",
            " 3   country          148356 non-null  int64  \n",
            " 4   status           148356 non-null  int64  \n",
            " 5   item_type        148356 non-null  int64  \n",
            " 6   application      148356 non-null  int64  \n",
            " 7   thickness        148356 non-null  float64\n",
            " 8   width            148356 non-null  int64  \n",
            " 9   product_ref      148356 non-null  int64  \n",
            " 10  delivery_date    148356 non-null  object \n",
            " 11  processing_time  148356 non-null  int64  \n",
            " 12  selling_price    148356 non-null  float64\n",
            "dtypes: float64(3), int64(8), object(2)\n",
            "memory usage: 15.8+ MB\n"
          ]
        }
      ],
      "source": [
        "copper3.info()"
      ]
    },
    {
      "cell_type": "markdown",
      "metadata": {
        "id": "KfviBNPHQQNh"
      },
      "source": [
        "### Check for skewness and outliers"
      ]
    },
    {
      "cell_type": "code",
      "execution_count": 274,
      "metadata": {
        "id": "TNjNHEZPQQNh"
      },
      "outputs": [],
      "source": [
        "col_numeric = ['quantity_tons', 'thickness', 'width', 'selling_price']"
      ]
    },
    {
      "cell_type": "code",
      "execution_count": 275,
      "metadata": {
        "colab": {
          "base_uri": "https://localhost:8080/",
          "height": 1000
        },
        "id": "Ta5d-8U-QQNh",
        "outputId": "fabbdb66-07e8-4ef9-bd63-b768a8273774"
      },
      "outputs": [
        {
          "output_type": "display_data",
          "data": {
            "text/plain": [
              "<Figure size 1500x2400 with 4 Axes>"
            ],
            "image/png": "[encoded data removed]"
          },
          "metadata": {}
        }
      ],
      "source": [
        "def check_skwness_histplot(numeric_col):\n",
        "  n_col = len(numeric_col)\n",
        "  n_rows = (n_col + 2) // 2\n",
        "  fig, axs = plt.subplots(nrows=n_rows,ncols=2,figsize=(15,8*n_rows))\n",
        "  axs =axs.flatten()\n",
        "\n",
        "  for i, var in enumerate(numeric_col):\n",
        "    sns.histplot(x=copper3[var],ax=axs[i],shrink=3,kde=True)\n",
        "    axs[i].set_title(var)\n",
        "\n",
        "  if n_col < len(axs):\n",
        "    for i in range(n_col,len(axs)):\n",
        "      fig.delaxes(axs[i])\n",
        "\n",
        "  fig.tight_layout()\n",
        "  plt.show()\n",
        "\n",
        "check_skwness_histplot(col_numeric)"
      ]
    },
    {
      "cell_type": "markdown",
      "metadata": {
        "id": "NNmgI8-wQQNi"
      },
      "source": [
        "### Removing Skweness - using Log Transform"
      ]
    },
    {
      "cell_type": "code",
      "execution_count": 276,
      "metadata": {
        "id": "gyjST6_VQQNj"
      },
      "outputs": [],
      "source": [
        "copper3['quantity_tons_log_tr'] = np.log(copper3['quantity_tons'])\n",
        "copper3['thickness_log_tr'] = np.log(copper3['thickness'])\n",
        "copper3['selling_price_log_tr'] = np.log(copper3['selling_price'])"
      ]
    },
    {
      "cell_type": "code",
      "execution_count": 277,
      "metadata": {
        "colab": {
          "base_uri": "https://localhost:8080/",
          "height": 1000
        },
        "id": "n_F2QXkHQQNj",
        "outputId": "3ea7ca59-1198-4e00-88e7-c375a5d24c23"
      },
      "outputs": [
        {
          "output_type": "display_data",
          "data": {
            "text/plain": [
              "<Figure size 1500x1600 with 3 Axes>"
            ],
            "image/png": "[encoded data removed]"
          },
          "metadata": {}
        }
      ],
      "source": [
        "col_log_transform =  ['quantity_tons_log_tr', 'thickness_log_tr', 'selling_price_log_tr']\n",
        "check_skwness_histplot(col_log_transform)"
      ]
    },
    {
      "cell_type": "code",
      "execution_count": 278,
      "metadata": {
        "id": "6YnshgZ7QQNj"
      },
      "outputs": [],
      "source": [
        "# Removing outliners - IQR\n",
        "\n",
        "def outliers(df, feature):\n",
        "    # Calculate the Interquartile Range (IQR)\n",
        "    IQR = df[feature].quantile(0.75) - df[feature].quantile(0.25)\n",
        "    # Define upper and lower limits for outliers\n",
        "    up_limit = df[feature].quantile(0.75) + (1.5*IQR)\n",
        "    lw_limit = df[feature].quantile(0.25) - (1.5*IQR)\n",
        "    # Clip the values of the feature to be within the upper and lower limits\n",
        "    df[feature] = df[feature].clip(lw_limit, up_limit)\n"
      ]
    },
    {
      "cell_type": "code",
      "execution_count": 279,
      "metadata": {
        "id": "5UsSxFgdQQNk"
      },
      "outputs": [],
      "source": [
        "outliers(copper3, 'quantity_tons_log_tr')\n",
        "outliers(copper3, 'thickness_log_tr')\n",
        "outliers(copper3, 'selling_price_log_tr')\n",
        "outliers(copper3, 'width')"
      ]
    },
    {
      "cell_type": "markdown",
      "metadata": {
        "id": "OhCJ3g2T6Lzb"
      },
      "source": [
        "### Checking for Outliners"
      ]
    },
    {
      "cell_type": "code",
      "execution_count": 280,
      "metadata": {
        "colab": {
          "base_uri": "https://localhost:8080/",
          "height": 712
        },
        "id": "h4nXrWQu63O-",
        "outputId": "16541d3d-c51d-4586-ea14-f71dc9aab479"
      },
      "outputs": [
        {
          "output_type": "display_data",
          "data": {
            "text/plain": [
              "<Figure size 1500x800 with 3 Axes>"
            ],
            "image/png": "[encoded data removed]"
          },
          "metadata": {}
        }
      ],
      "source": [
        "# function for creating box plots for numeric columns to check for outliers\n",
        "\n",
        "def check_outliner(numeric_col):\n",
        "\n",
        "  num_col = len(numeric_col)\n",
        "\n",
        "  num_rows = (num_col + 2) // 3\n",
        "\n",
        "# Set the figure size based on the number of rows\n",
        "  fig, axs = plt.subplots(nrows= num_rows, ncols= 3, figsize=(15,8*num_rows))\n",
        "  axs = axs.flatten()\n",
        "\n",
        "# Iterate through the numeric columns and create box plots\n",
        "  for i, var in enumerate(numeric_col):\n",
        "    sns.boxplot(y=copper3[var], ax=axs[i])\n",
        "    axs[i].set_title(var)\n",
        "\n",
        "# If there are more subplots than numeric columns, remove the excess subplots\n",
        "  if num_col < len(axs):\n",
        "    for i in range(num_col,len(axs)):\n",
        "      fig.delaxes(axs[i])\n",
        "\n",
        "  fig.tight_layout()\n",
        "  plt.show()\n",
        "\n",
        "# def check_outlier(numeric_col):usage:\n",
        "check_outliner(col_log_transform)\n",
        "\n"
      ]
    },
    {
      "cell_type": "code",
      "execution_count": 281,
      "metadata": {
        "id": "sKxPycNGQQNq"
      },
      "outputs": [],
      "source": [
        "#Dropping the features\n",
        "copper3.drop(['quantity_tons','thickness','selling_price'], axis=1, inplace=True)"
      ]
    },
    {
      "cell_type": "code",
      "execution_count": 282,
      "metadata": {
        "id": "OSMye1fLC8un",
        "colab": {
          "base_uri": "https://localhost:8080/",
          "height": 545
        },
        "outputId": "b8296492-8145-418e-86fe-f4e76c4daff6"
      },
      "outputs": [
        {
          "output_type": "display_data",
          "data": {
            "text/plain": [
              "<Figure size 1200x600 with 2 Axes>"
            ],
            "image/png": "[encoded data removed]"
          },
          "metadata": {}
        }
      ],
      "source": [
        "# Calculate the correlation matrix for numeric columns\n",
        "corr = copper3.loc[:, ['width', 'thickness_log_tr','quantity_tons_log_tr',\n",
        "                       'selling_price_log_tr']].corr(numeric_only=True)\n",
        "\n",
        "# Plotting correlation heat map\n",
        "plt.figure(figsize=(12,6))\n",
        "sns.heatmap(corr, annot=True)\n",
        "\n",
        "plt.title('Heat Map: Correlation Matrix')\n",
        "\n",
        "plt.show()"
      ]
    },
    {
      "cell_type": "code",
      "execution_count": 283,
      "metadata": {
        "id": "8D3vQVh7QQNq",
        "colab": {
          "base_uri": "https://localhost:8080/"
        },
        "outputId": "aa274e5a-c0a8-4e85-ecca-10018ef51abf"
      },
      "outputs": [
        {
          "output_type": "stream",
          "name": "stdout",
          "text": [
            "<class 'pandas.core.frame.DataFrame'>\n",
            "Int64Index: 148356 entries, 0 to 148356\n",
            "Data columns (total 13 columns):\n",
            " #   Column                Non-Null Count   Dtype  \n",
            "---  ------                --------------   -----  \n",
            " 0   item_date             148356 non-null  object \n",
            " 1   customer              148356 non-null  int64  \n",
            " 2   country               148356 non-null  int64  \n",
            " 3   status                148356 non-null  int64  \n",
            " 4   item_type             148356 non-null  int64  \n",
            " 5   application           148356 non-null  int64  \n",
            " 6   width                 148356 non-null  int64  \n",
            " 7   product_ref           148356 non-null  int64  \n",
            " 8   delivery_date         148356 non-null  object \n",
            " 9   processing_time       148356 non-null  int64  \n",
            " 10  quantity_tons_log_tr  148356 non-null  float64\n",
            " 11  thickness_log_tr      148356 non-null  float64\n",
            " 12  selling_price_log_tr  148356 non-null  float64\n",
            "dtypes: float64(3), int64(8), object(2)\n",
            "memory usage: 15.8+ MB\n"
          ]
        }
      ],
      "source": [
        "copper3.info()"
      ]
    },
    {
      "cell_type": "code",
      "source": [
        "# Convert 'item_date' column to datetime format\n",
        "copper3['item_date'] = pd.to_datetime(copper3['item_date'])\n",
        "\n",
        "# Convert 'delivery_date' column to datetime format\n",
        "copper3['delivery_date'] = pd.to_datetime(copper3['delivery_date'])"
      ],
      "metadata": {
        "id": "AhRSCuVCFjQz"
      },
      "execution_count": 284,
      "outputs": []
    },
    {
      "cell_type": "code",
      "execution_count": 285,
      "metadata": {
        "colab": {
          "base_uri": "https://localhost:8080/"
        },
        "id": "ZBZ-jtrcEAMD",
        "outputId": "b08bc961-5acf-4b0f-d51a-e2f4a5e9949f"
      },
      "outputs": [
        {
          "output_type": "execute_result",
          "data": {
            "text/plain": [
              "item_date               0\n",
              "customer                0\n",
              "country                 0\n",
              "status                  0\n",
              "item_type               0\n",
              "application             0\n",
              "width                   0\n",
              "product_ref             0\n",
              "delivery_date           0\n",
              "processing_time         0\n",
              "quantity_tons_log_tr    0\n",
              "thickness_log_tr        0\n",
              "selling_price_log_tr    0\n",
              "dtype: int64"
            ]
          },
          "metadata": {},
          "execution_count": 285
        }
      ],
      "source": [
        "copper3.isnull().sum()"
      ]
    },
    {
      "cell_type": "markdown",
      "source": [
        "Formating the date columns"
      ],
      "metadata": {
        "id": "GWmLlSezAqsU"
      }
    },
    {
      "cell_type": "code",
      "source": [
        "copper3['processing_time'].describe()"
      ],
      "metadata": {
        "colab": {
          "base_uri": "https://localhost:8080/"
        },
        "id": "lB0-8OmFAw3z",
        "outputId": "957c699e-3664-4a39-c022-5266cd3a5eaa"
      },
      "execution_count": 286,
      "outputs": [
        {
          "output_type": "execute_result",
          "data": {
            "text/plain": [
              "count   148,356.00\n",
              "mean         57.78\n",
              "std          46.88\n",
              "min        -689.00\n",
              "25%          25.00\n",
              "50%          57.00\n",
              "75%          93.00\n",
              "max         448.00\n",
              "Name: processing_time, dtype: float64"
            ]
          },
          "metadata": {},
          "execution_count": 286
        }
      ]
    },
    {
      "cell_type": "code",
      "execution_count": 287,
      "metadata": {
        "id": "kgveneHuDhHP"
      },
      "outputs": [],
      "source": [
        "# Fixing Analysis range greater than 7 days in processing_time\n",
        "copper3 = copper3[copper3['processing_time'] >= 7]\n",
        "copper3 = copper3.reset_index(drop=True)"
      ]
    },
    {
      "cell_type": "code",
      "execution_count": 288,
      "metadata": {
        "scrolled": true,
        "id": "PcrHlcdNDhHP"
      },
      "outputs": [],
      "source": [
        "# Extract day component from 'item_date' and create a new column 'item_date_day'\n",
        "copper3['item_date_day'] = copper3['item_date'].dt.day\n",
        "\n",
        "# Extract month component from 'item_date' and create a new column 'item_date_month'\n",
        "copper3['item_date_month'] = copper3['item_date'].dt.month\n",
        "\n",
        "# Extract year component from 'item_date' and create a new column 'item_date_year'\n",
        "copper3['item_date_year'] = copper3['item_date'].dt.year\n"
      ]
    },
    {
      "cell_type": "code",
      "execution_count": 289,
      "metadata": {
        "id": "E8CoNIWqDhHQ"
      },
      "outputs": [],
      "source": [
        "# Extract day component from 'item_date' and create a new column 'item_date_day'\n",
        "copper3['item_date_day'] = copper3['item_date'].dt.day\n",
        "\n",
        "# Extract month component from 'item_date' and create a new column 'item_date_month'\n",
        "copper3['item_date_month'] = copper3['item_date'].dt.month\n",
        "\n",
        "# Extract year component from 'item_date' and create a new column 'item_date_year'\n",
        "copper3['item_date_year'] = copper3['item_date'].dt.year\n"
      ]
    },
    {
      "cell_type": "code",
      "execution_count": 290,
      "metadata": {
        "id": "mQtXamtiDhHQ"
      },
      "outputs": [],
      "source": [
        "copper3.drop(['processing_time','delivery_date','item_date'], axis=1, inplace=True)\n",
        "copper3 = copper3.reset_index(drop= True)"
      ]
    },
    {
      "cell_type": "code",
      "source": [
        "copper3.head()"
      ],
      "metadata": {
        "colab": {
          "base_uri": "https://localhost:8080/",
          "height": 226
        },
        "id": "8TsL-mRcGkg6",
        "outputId": "9135f945-2a34-42bc-b032-dbdbf882662a"
      },
      "execution_count": 291,
      "outputs": [
        {
          "output_type": "execute_result",
          "data": {
            "text/plain": [
              "   customer  country  status  item_type  application  width  product_ref  \\\n",
              "0  30156308       28       1          1           10   1500   1670798778   \n",
              "1  30341428       38       1          2           10   1275   1668701376   \n",
              "2  30165529       78       1          1           10   1250    164141591   \n",
              "3  30202362       27       1          2           10   1010       628377   \n",
              "4  30211222       30       1          1           10    900       611993   \n",
              "\n",
              "   quantity_tons_log_tr  thickness_log_tr  selling_price_log_tr  \\\n",
              "0                  3.99              0.69                  6.75   \n",
              "1                  4.24             -0.51                  7.22   \n",
              "2                  3.31             -0.29                  7.00   \n",
              "3                  3.47             -0.51                  6.88   \n",
              "4                  3.04             -0.80                  7.18   \n",
              "\n",
              "   item_date_day  item_date_month  item_date_year  \n",
              "0              1                4            2021  \n",
              "1              1                4            2021  \n",
              "2              1                4            2021  \n",
              "3              1                4            2021  \n",
              "4              1                4            2021  "
            ],
            "text/html": [
              "\n",
              "  <div id=\"df-d18b3097-0e2c-4de0-915a-8e6ff8efe909\" class=\"colab-df-container\">\n",
              "    <div>\n",
              "<style scoped>\n",
              "    .dataframe tbody tr th:only-of-type {\n",
              "        vertical-align: middle;\n",
              "    }\n",
              "\n",
              "    .dataframe tbody tr th {\n",
              "        vertical-align: top;\n",
              "    }\n",
              "\n",
              "    .dataframe thead th {\n",
              "        text-align: right;\n",
              "    }\n",
              "</style>\n",
              "<table border=\"1\" class=\"dataframe\">\n",
              "  <thead>\n",
              "    <tr style=\"text-align: right;\">\n",
              "      <th></th>\n",
              "      <th>customer</th>\n",
              "      <th>country</th>\n",
              "      <th>status</th>\n",
              "      <th>item_type</th>\n",
              "      <th>application</th>\n",
              "      <th>width</th>\n",
              "      <th>product_ref</th>\n",
              "      <th>quantity_tons_log_tr</th>\n",
              "      <th>thickness_log_tr</th>\n",
              "      <th>selling_price_log_tr</th>\n",
              "      <th>item_date_day</th>\n",
              "      <th>item_date_month</th>\n",
              "      <th>item_date_year</th>\n",
              "    </tr>\n",
              "  </thead>\n",
              "  <tbody>\n",
              "    <tr>\n",
              "      <th>0</th>\n",
              "      <td>30156308</td>\n",
              "      <td>28</td>\n",
              "      <td>1</td>\n",
              "      <td>1</td>\n",
              "      <td>10</td>\n",
              "      <td>1500</td>\n",
              "      <td>1670798778</td>\n",
              "      <td>3.99</td>\n",
              "      <td>0.69</td>\n",
              "      <td>6.75</td>\n",
              "      <td>1</td>\n",
              "      <td>4</td>\n",
              "      <td>2021</td>\n",
              "    </tr>\n",
              "    <tr>\n",
              "      <th>1</th>\n",
              "      <td>30341428</td>\n",
              "      <td>38</td>\n",
              "      <td>1</td>\n",
              "      <td>2</td>\n",
              "      <td>10</td>\n",
              "      <td>1275</td>\n",
              "      <td>1668701376</td>\n",
              "      <td>4.24</td>\n",
              "      <td>-0.51</td>\n",
              "      <td>7.22</td>\n",
              "      <td>1</td>\n",
              "      <td>4</td>\n",
              "      <td>2021</td>\n",
              "    </tr>\n",
              "    <tr>\n",
              "      <th>2</th>\n",
              "      <td>30165529</td>\n",
              "      <td>78</td>\n",
              "      <td>1</td>\n",
              "      <td>1</td>\n",
              "      <td>10</td>\n",
              "      <td>1250</td>\n",
              "      <td>164141591</td>\n",
              "      <td>3.31</td>\n",
              "      <td>-0.29</td>\n",
              "      <td>7.00</td>\n",
              "      <td>1</td>\n",
              "      <td>4</td>\n",
              "      <td>2021</td>\n",
              "    </tr>\n",
              "    <tr>\n",
              "      <th>3</th>\n",
              "      <td>30202362</td>\n",
              "      <td>27</td>\n",
              "      <td>1</td>\n",
              "      <td>2</td>\n",
              "      <td>10</td>\n",
              "      <td>1010</td>\n",
              "      <td>628377</td>\n",
              "      <td>3.47</td>\n",
              "      <td>-0.51</td>\n",
              "      <td>6.88</td>\n",
              "      <td>1</td>\n",
              "      <td>4</td>\n",
              "      <td>2021</td>\n",
              "    </tr>\n",
              "    <tr>\n",
              "      <th>4</th>\n",
              "      <td>30211222</td>\n",
              "      <td>30</td>\n",
              "      <td>1</td>\n",
              "      <td>1</td>\n",
              "      <td>10</td>\n",
              "      <td>900</td>\n",
              "      <td>611993</td>\n",
              "      <td>3.04</td>\n",
              "      <td>-0.80</td>\n",
              "      <td>7.18</td>\n",
              "      <td>1</td>\n",
              "      <td>4</td>\n",
              "      <td>2021</td>\n",
              "    </tr>\n",
              "  </tbody>\n",
              "</table>\n",
              "</div>\n",
              "    <div class=\"colab-df-buttons\">\n",
              "\n",
              "  <div class=\"colab-df-container\">\n",
              "    <button class=\"colab-df-convert\" onclick=\"convertToInteractive('df-d18b3097-0e2c-4de0-915a-8e6ff8efe909')\"\n",
              "            title=\"Convert this dataframe to an interactive table.\"\n",
              "            style=\"display:none;\">\n",
              "\n",
              "  <svg xmlns=\"http://www.w3.org/2000/svg\" height=\"24px\" viewBox=\"0 -960 960 960\">\n",
              "    <path d=\"M120-120v-720h720v720H120Zm60-500h600v-160H180v160Zm220 220h160v-160H400v160Zm0 220h160v-160H400v160ZM180-400h160v-160H180v160Zm440 0h160v-160H620v160ZM180-180h160v-160H180v160Zm440 0h160v-160H620v160Z\"/>\n",
              "  </svg>\n",
              "    </button>\n",
              "\n",
              "  <style>\n",
              "    .colab-df-container {\n",
              "      display:flex;\n",
              "      gap: 12px;\n",
              "    }\n",
              "\n",
              "    .colab-df-convert {\n",
              "      background-color: #E8F0FE;\n",
              "      border: none;\n",
              "      border-radius: 50%;\n",
              "      cursor: pointer;\n",
              "      display: none;\n",
              "      fill: #1967D2;\n",
              "      height: 32px;\n",
              "      padding: 0 0 0 0;\n",
              "      width: 32px;\n",
              "    }\n",
              "\n",
              "    .colab-df-convert:hover {\n",
              "      background-color: #E2EBFA;\n",
              "      box-shadow: 0px 1px 2px rgba(60, 64, 67, 0.3), 0px 1px 3px 1px rgba(60, 64, 67, 0.15);\n",
              "      fill: #174EA6;\n",
              "    }\n",
              "\n",
              "    .colab-df-buttons div {\n",
              "      margin-bottom: 4px;\n",
              "    }\n",
              "\n",
              "    [theme=dark] .colab-df-convert {\n",
              "      background-color: #3B4455;\n",
              "      fill: #D2E3FC;\n",
              "    }\n",
              "\n",
              "    [theme=dark] .colab-df-convert:hover {\n",
              "      background-color: #434B5C;\n",
              "      box-shadow: 0px 1px 3px 1px rgba(0, 0, 0, 0.15);\n",
              "      filter: drop-shadow(0px 1px 2px rgba(0, 0, 0, 0.3));\n",
              "      fill: #FFFFFF;\n",
              "    }\n",
              "  </style>\n",
              "\n",
              "    <script>\n",
              "      const buttonEl =\n",
              "        document.querySelector('#df-d18b3097-0e2c-4de0-915a-8e6ff8efe909 button.colab-df-convert');\n",
              "      buttonEl.style.display =\n",
              "        google.colab.kernel.accessAllowed ? 'block' : 'none';\n",
              "\n",
              "      async function convertToInteractive(key) {\n",
              "        const element = document.querySelector('#df-d18b3097-0e2c-4de0-915a-8e6ff8efe909');\n",
              "        const dataTable =\n",
              "          await google.colab.kernel.invokeFunction('convertToInteractive',\n",
              "                                                    [key], {});\n",
              "        if (!dataTable) return;\n",
              "\n",
              "        const docLinkHtml = 'Like what you see? Visit the ' +\n",
              "          '<a target=\"_blank\" href=https://colab.research.google.com/notebooks/data_table.ipynb>data table notebook</a>'\n",
              "          + ' to learn more about interactive tables.';\n",
              "        element.innerHTML = '';\n",
              "        dataTable['output_type'] = 'display_data';\n",
              "        await google.colab.output.renderOutput(dataTable, element);\n",
              "        const docLink = document.createElement('div');\n",
              "        docLink.innerHTML = docLinkHtml;\n",
              "        element.appendChild(docLink);\n",
              "      }\n",
              "    </script>\n",
              "  </div>\n",
              "\n",
              "\n",
              "<div id=\"df-1aff5627-4733-4813-9abb-e3063364088d\">\n",
              "  <button class=\"colab-df-quickchart\" onclick=\"quickchart('df-1aff5627-4733-4813-9abb-e3063364088d')\"\n",
              "            title=\"Suggest charts\"\n",
              "            style=\"display:none;\">\n",
              "\n",
              "<svg xmlns=\"http://www.w3.org/2000/svg\" height=\"24px\"viewBox=\"0 0 24 24\"\n",
              "     width=\"24px\">\n",
              "    <g>\n",
              "        <path d=\"M19 3H5c-1.1 0-2 .9-2 2v14c0 1.1.9 2 2 2h14c1.1 0 2-.9 2-2V5c0-1.1-.9-2-2-2zM9 17H7v-7h2v7zm4 0h-2V7h2v10zm4 0h-2v-4h2v4z\"/>\n",
              "    </g>\n",
              "</svg>\n",
              "  </button>\n",
              "\n",
              "<style>\n",
              "  .colab-df-quickchart {\n",
              "      --bg-color: #E8F0FE;\n",
              "      --fill-color: #1967D2;\n",
              "      --hover-bg-color: #E2EBFA;\n",
              "      --hover-fill-color: #174EA6;\n",
              "      --disabled-fill-color: #AAA;\n",
              "      --disabled-bg-color: #DDD;\n",
              "  }\n",
              "\n",
              "  [theme=dark] .colab-df-quickchart {\n",
              "      --bg-color: #3B4455;\n",
              "      --fill-color: #D2E3FC;\n",
              "      --hover-bg-color: #434B5C;\n",
              "      --hover-fill-color: #FFFFFF;\n",
              "      --disabled-bg-color: #3B4455;\n",
              "      --disabled-fill-color: #666;\n",
              "  }\n",
              "\n",
              "  .colab-df-quickchart {\n",
              "    background-color: var(--bg-color);\n",
              "    border: none;\n",
              "    border-radius: 50%;\n",
              "    cursor: pointer;\n",
              "    display: none;\n",
              "    fill: var(--fill-color);\n",
              "    height: 32px;\n",
              "    padding: 0;\n",
              "    width: 32px;\n",
              "  }\n",
              "\n",
              "  .colab-df-quickchart:hover {\n",
              "    background-color: var(--hover-bg-color);\n",
              "    box-shadow: 0 1px 2px rgba(60, 64, 67, 0.3), 0 1px 3px 1px rgba(60, 64, 67, 0.15);\n",
              "    fill: var(--button-hover-fill-color);\n",
              "  }\n",
              "\n",
              "  .colab-df-quickchart-complete:disabled,\n",
              "  .colab-df-quickchart-complete:disabled:hover {\n",
              "    background-color: var(--disabled-bg-color);\n",
              "    fill: var(--disabled-fill-color);\n",
              "    box-shadow: none;\n",
              "  }\n",
              "\n",
              "  .colab-df-spinner {\n",
              "    border: 2px solid var(--fill-color);\n",
              "    border-color: transparent;\n",
              "    border-bottom-color: var(--fill-color);\n",
              "    animation:\n",
              "      spin 1s steps(1) infinite;\n",
              "  }\n",
              "\n",
              "  @keyframes spin {\n",
              "    0% {\n",
              "      border-color: transparent;\n",
              "      border-bottom-color: var(--fill-color);\n",
              "      border-left-color: var(--fill-color);\n",
              "    }\n",
              "    20% {\n",
              "      border-color: transparent;\n",
              "      border-left-color: var(--fill-color);\n",
              "      border-top-color: var(--fill-color);\n",
              "    }\n",
              "    30% {\n",
              "      border-color: transparent;\n",
              "      border-left-color: var(--fill-color);\n",
              "      border-top-color: var(--fill-color);\n",
              "      border-right-color: var(--fill-color);\n",
              "    }\n",
              "    40% {\n",
              "      border-color: transparent;\n",
              "      border-right-color: var(--fill-color);\n",
              "      border-top-color: var(--fill-color);\n",
              "    }\n",
              "    60% {\n",
              "      border-color: transparent;\n",
              "      border-right-color: var(--fill-color);\n",
              "    }\n",
              "    80% {\n",
              "      border-color: transparent;\n",
              "      border-right-color: var(--fill-color);\n",
              "      border-bottom-color: var(--fill-color);\n",
              "    }\n",
              "    90% {\n",
              "      border-color: transparent;\n",
              "      border-bottom-color: var(--fill-color);\n",
              "    }\n",
              "  }\n",
              "</style>\n",
              "\n",
              "  <script>\n",
              "    async function quickchart(key) {\n",
              "      const quickchartButtonEl =\n",
              "        document.querySelector('#' + key + ' button');\n",
              "      quickchartButtonEl.disabled = true;  // To prevent multiple clicks.\n",
              "      quickchartButtonEl.classList.add('colab-df-spinner');\n",
              "      try {\n",
              "        const charts = await google.colab.kernel.invokeFunction(\n",
              "            'suggestCharts', [key], {});\n",
              "      } catch (error) {\n",
              "        console.error('Error during call to suggestCharts:', error);\n",
              "      }\n",
              "      quickchartButtonEl.classList.remove('colab-df-spinner');\n",
              "      quickchartButtonEl.classList.add('colab-df-quickchart-complete');\n",
              "    }\n",
              "    (() => {\n",
              "      let quickchartButtonEl =\n",
              "        document.querySelector('#df-1aff5627-4733-4813-9abb-e3063364088d button');\n",
              "      quickchartButtonEl.style.display =\n",
              "        google.colab.kernel.accessAllowed ? 'block' : 'none';\n",
              "    })();\n",
              "  </script>\n",
              "</div>\n",
              "\n",
              "    </div>\n",
              "  </div>\n"
            ]
          },
          "metadata": {},
          "execution_count": 291
        }
      ]
    },
    {
      "cell_type": "code",
      "source": [
        "copper4 = pd.read_csv('https://raw.githubusercontent.com/VivekS-DS/copper_price_prediction_app/main/copper_clean_dataset.csv')\n",
        "copper4.head()"
      ],
      "metadata": {
        "colab": {
          "base_uri": "https://localhost:8080/",
          "height": 226
        },
        "id": "Bi2g1sL4Rt2j",
        "outputId": "3c2008b4-7030-4020-e73c-5ce4d1e8fc97"
      },
      "execution_count": 292,
      "outputs": [
        {
          "output_type": "execute_result",
          "data": {
            "text/plain": [
              "   customer  country  status  item_type  application  width  product_ref  \\\n",
              "0  30156308       28       1          1           10   1500   1670798778   \n",
              "1  30341428       38       1          2           10   1275   1668701376   \n",
              "2  30165529       78       1          1           10   1250    164141591   \n",
              "3  30202362       27       1          2           10   1010       628377   \n",
              "4  30211222       30       1          1           10    900       611993   \n",
              "\n",
              "   quantity_tons_log_tr  thickness_log_tr  selling_price_log_tr  \\\n",
              "0                  3.99              0.69                  6.75   \n",
              "1                  4.24             -0.51                  7.22   \n",
              "2                  3.31             -0.29                  7.00   \n",
              "3                  3.47             -0.51                  6.88   \n",
              "4                  3.04             -0.80                  7.18   \n",
              "\n",
              "   item_date_day  item_date_month  item_date_year  delivery_date_day  \\\n",
              "0              1                4            2021                  1   \n",
              "1              1                4            2021                  1   \n",
              "2              1                4            2021                  1   \n",
              "3              1                4            2021                  1   \n",
              "4              1                4            2021                  1   \n",
              "\n",
              "   delivery_date_month  delivery_date_year  \n",
              "0                    7                2021  \n",
              "1                    7                2021  \n",
              "2                    7                2021  \n",
              "3                    7                2021  \n",
              "4                    7                2021  "
            ],
            "text/html": [
              "\n",
              "  <div id=\"df-618c3e81-fffa-44f5-9753-009cf025f957\" class=\"colab-df-container\">\n",
              "    <div>\n",
              "<style scoped>\n",
              "    .dataframe tbody tr th:only-of-type {\n",
              "        vertical-align: middle;\n",
              "    }\n",
              "\n",
              "    .dataframe tbody tr th {\n",
              "        vertical-align: top;\n",
              "    }\n",
              "\n",
              "    .dataframe thead th {\n",
              "        text-align: right;\n",
              "    }\n",
              "</style>\n",
              "<table border=\"1\" class=\"dataframe\">\n",
              "  <thead>\n",
              "    <tr style=\"text-align: right;\">\n",
              "      <th></th>\n",
              "      <th>customer</th>\n",
              "      <th>country</th>\n",
              "      <th>status</th>\n",
              "      <th>item_type</th>\n",
              "      <th>application</th>\n",
              "      <th>width</th>\n",
              "      <th>product_ref</th>\n",
              "      <th>quantity_tons_log_tr</th>\n",
              "      <th>thickness_log_tr</th>\n",
              "      <th>selling_price_log_tr</th>\n",
              "      <th>item_date_day</th>\n",
              "      <th>item_date_month</th>\n",
              "      <th>item_date_year</th>\n",
              "      <th>delivery_date_day</th>\n",
              "      <th>delivery_date_month</th>\n",
              "      <th>delivery_date_year</th>\n",
              "    </tr>\n",
              "  </thead>\n",
              "  <tbody>\n",
              "    <tr>\n",
              "      <th>0</th>\n",
              "      <td>30156308</td>\n",
              "      <td>28</td>\n",
              "      <td>1</td>\n",
              "      <td>1</td>\n",
              "      <td>10</td>\n",
              "      <td>1500</td>\n",
              "      <td>1670798778</td>\n",
              "      <td>3.99</td>\n",
              "      <td>0.69</td>\n",
              "      <td>6.75</td>\n",
              "      <td>1</td>\n",
              "      <td>4</td>\n",
              "      <td>2021</td>\n",
              "      <td>1</td>\n",
              "      <td>7</td>\n",
              "      <td>2021</td>\n",
              "    </tr>\n",
              "    <tr>\n",
              "      <th>1</th>\n",
              "      <td>30341428</td>\n",
              "      <td>38</td>\n",
              "      <td>1</td>\n",
              "      <td>2</td>\n",
              "      <td>10</td>\n",
              "      <td>1275</td>\n",
              "      <td>1668701376</td>\n",
              "      <td>4.24</td>\n",
              "      <td>-0.51</td>\n",
              "      <td>7.22</td>\n",
              "      <td>1</td>\n",
              "      <td>4</td>\n",
              "      <td>2021</td>\n",
              "      <td>1</td>\n",
              "      <td>7</td>\n",
              "      <td>2021</td>\n",
              "    </tr>\n",
              "    <tr>\n",
              "      <th>2</th>\n",
              "      <td>30165529</td>\n",
              "      <td>78</td>\n",
              "      <td>1</td>\n",
              "      <td>1</td>\n",
              "      <td>10</td>\n",
              "      <td>1250</td>\n",
              "      <td>164141591</td>\n",
              "      <td>3.31</td>\n",
              "      <td>-0.29</td>\n",
              "      <td>7.00</td>\n",
              "      <td>1</td>\n",
              "      <td>4</td>\n",
              "      <td>2021</td>\n",
              "      <td>1</td>\n",
              "      <td>7</td>\n",
              "      <td>2021</td>\n",
              "    </tr>\n",
              "    <tr>\n",
              "      <th>3</th>\n",
              "      <td>30202362</td>\n",
              "      <td>27</td>\n",
              "      <td>1</td>\n",
              "      <td>2</td>\n",
              "      <td>10</td>\n",
              "      <td>1010</td>\n",
              "      <td>628377</td>\n",
              "      <td>3.47</td>\n",
              "      <td>-0.51</td>\n",
              "      <td>6.88</td>\n",
              "      <td>1</td>\n",
              "      <td>4</td>\n",
              "      <td>2021</td>\n",
              "      <td>1</td>\n",
              "      <td>7</td>\n",
              "      <td>2021</td>\n",
              "    </tr>\n",
              "    <tr>\n",
              "      <th>4</th>\n",
              "      <td>30211222</td>\n",
              "      <td>30</td>\n",
              "      <td>1</td>\n",
              "      <td>1</td>\n",
              "      <td>10</td>\n",
              "      <td>900</td>\n",
              "      <td>611993</td>\n",
              "      <td>3.04</td>\n",
              "      <td>-0.80</td>\n",
              "      <td>7.18</td>\n",
              "      <td>1</td>\n",
              "      <td>4</td>\n",
              "      <td>2021</td>\n",
              "      <td>1</td>\n",
              "      <td>7</td>\n",
              "      <td>2021</td>\n",
              "    </tr>\n",
              "  </tbody>\n",
              "</table>\n",
              "</div>\n",
              "    <div class=\"colab-df-buttons\">\n",
              "\n",
              "  <div class=\"colab-df-container\">\n",
              "    <button class=\"colab-df-convert\" onclick=\"convertToInteractive('df-618c3e81-fffa-44f5-9753-009cf025f957')\"\n",
              "            title=\"Convert this dataframe to an interactive table.\"\n",
              "            style=\"display:none;\">\n",
              "\n",
              "  <svg xmlns=\"http://www.w3.org/2000/svg\" height=\"24px\" viewBox=\"0 -960 960 960\">\n",
              "    <path d=\"M120-120v-720h720v720H120Zm60-500h600v-160H180v160Zm220 220h160v-160H400v160Zm0 220h160v-160H400v160ZM180-400h160v-160H180v160Zm440 0h160v-160H620v160ZM180-180h160v-160H180v160Zm440 0h160v-160H620v160Z\"/>\n",
              "  </svg>\n",
              "    </button>\n",
              "\n",
              "  <style>\n",
              "    .colab-df-container {\n",
              "      display:flex;\n",
              "      gap: 12px;\n",
              "    }\n",
              "\n",
              "    .colab-df-convert {\n",
              "      background-color: #E8F0FE;\n",
              "      border: none;\n",
              "      border-radius: 50%;\n",
              "      cursor: pointer;\n",
              "      display: none;\n",
              "      fill: #1967D2;\n",
              "      height: 32px;\n",
              "      padding: 0 0 0 0;\n",
              "      width: 32px;\n",
              "    }\n",
              "\n",
              "    .colab-df-convert:hover {\n",
              "      background-color: #E2EBFA;\n",
              "      box-shadow: 0px 1px 2px rgba(60, 64, 67, 0.3), 0px 1px 3px 1px rgba(60, 64, 67, 0.15);\n",
              "      fill: #174EA6;\n",
              "    }\n",
              "\n",
              "    .colab-df-buttons div {\n",
              "      margin-bottom: 4px;\n",
              "    }\n",
              "\n",
              "    [theme=dark] .colab-df-convert {\n",
              "      background-color: #3B4455;\n",
              "      fill: #D2E3FC;\n",
              "    }\n",
              "\n",
              "    [theme=dark] .colab-df-convert:hover {\n",
              "      background-color: #434B5C;\n",
              "      box-shadow: 0px 1px 3px 1px rgba(0, 0, 0, 0.15);\n",
              "      filter: drop-shadow(0px 1px 2px rgba(0, 0, 0, 0.3));\n",
              "      fill: #FFFFFF;\n",
              "    }\n",
              "  </style>\n",
              "\n",
              "    <script>\n",
              "      const buttonEl =\n",
              "        document.querySelector('#df-618c3e81-fffa-44f5-9753-009cf025f957 button.colab-df-convert');\n",
              "      buttonEl.style.display =\n",
              "        google.colab.kernel.accessAllowed ? 'block' : 'none';\n",
              "\n",
              "      async function convertToInteractive(key) {\n",
              "        const element = document.querySelector('#df-618c3e81-fffa-44f5-9753-009cf025f957');\n",
              "        const dataTable =\n",
              "          await google.colab.kernel.invokeFunction('convertToInteractive',\n",
              "                                                    [key], {});\n",
              "        if (!dataTable) return;\n",
              "\n",
              "        const docLinkHtml = 'Like what you see? Visit the ' +\n",
              "          '<a target=\"_blank\" href=https://colab.research.google.com/notebooks/data_table.ipynb>data table notebook</a>'\n",
              "          + ' to learn more about interactive tables.';\n",
              "        element.innerHTML = '';\n",
              "        dataTable['output_type'] = 'display_data';\n",
              "        await google.colab.output.renderOutput(dataTable, element);\n",
              "        const docLink = document.createElement('div');\n",
              "        docLink.innerHTML = docLinkHtml;\n",
              "        element.appendChild(docLink);\n",
              "      }\n",
              "    </script>\n",
              "  </div>\n",
              "\n",
              "\n",
              "<div id=\"df-8361f0ed-fc04-4b34-a4ce-f587f401ffb1\">\n",
              "  <button class=\"colab-df-quickchart\" onclick=\"quickchart('df-8361f0ed-fc04-4b34-a4ce-f587f401ffb1')\"\n",
              "            title=\"Suggest charts\"\n",
              "            style=\"display:none;\">\n",
              "\n",
              "<svg xmlns=\"http://www.w3.org/2000/svg\" height=\"24px\"viewBox=\"0 0 24 24\"\n",
              "     width=\"24px\">\n",
              "    <g>\n",
              "        <path d=\"M19 3H5c-1.1 0-2 .9-2 2v14c0 1.1.9 2 2 2h14c1.1 0 2-.9 2-2V5c0-1.1-.9-2-2-2zM9 17H7v-7h2v7zm4 0h-2V7h2v10zm4 0h-2v-4h2v4z\"/>\n",
              "    </g>\n",
              "</svg>\n",
              "  </button>\n",
              "\n",
              "<style>\n",
              "  .colab-df-quickchart {\n",
              "      --bg-color: #E8F0FE;\n",
              "      --fill-color: #1967D2;\n",
              "      --hover-bg-color: #E2EBFA;\n",
              "      --hover-fill-color: #174EA6;\n",
              "      --disabled-fill-color: #AAA;\n",
              "      --disabled-bg-color: #DDD;\n",
              "  }\n",
              "\n",
              "  [theme=dark] .colab-df-quickchart {\n",
              "      --bg-color: #3B4455;\n",
              "      --fill-color: #D2E3FC;\n",
              "      --hover-bg-color: #434B5C;\n",
              "      --hover-fill-color: #FFFFFF;\n",
              "      --disabled-bg-color: #3B4455;\n",
              "      --disabled-fill-color: #666;\n",
              "  }\n",
              "\n",
              "  .colab-df-quickchart {\n",
              "    background-color: var(--bg-color);\n",
              "    border: none;\n",
              "    border-radius: 50%;\n",
              "    cursor: pointer;\n",
              "    display: none;\n",
              "    fill: var(--fill-color);\n",
              "    height: 32px;\n",
              "    padding: 0;\n",
              "    width: 32px;\n",
              "  }\n",
              "\n",
              "  .colab-df-quickchart:hover {\n",
              "    background-color: var(--hover-bg-color);\n",
              "    box-shadow: 0 1px 2px rgba(60, 64, 67, 0.3), 0 1px 3px 1px rgba(60, 64, 67, 0.15);\n",
              "    fill: var(--button-hover-fill-color);\n",
              "  }\n",
              "\n",
              "  .colab-df-quickchart-complete:disabled,\n",
              "  .colab-df-quickchart-complete:disabled:hover {\n",
              "    background-color: var(--disabled-bg-color);\n",
              "    fill: var(--disabled-fill-color);\n",
              "    box-shadow: none;\n",
              "  }\n",
              "\n",
              "  .colab-df-spinner {\n",
              "    border: 2px solid var(--fill-color);\n",
              "    border-color: transparent;\n",
              "    border-bottom-color: var(--fill-color);\n",
              "    animation:\n",
              "      spin 1s steps(1) infinite;\n",
              "  }\n",
              "\n",
              "  @keyframes spin {\n",
              "    0% {\n",
              "      border-color: transparent;\n",
              "      border-bottom-color: var(--fill-color);\n",
              "      border-left-color: var(--fill-color);\n",
              "    }\n",
              "    20% {\n",
              "      border-color: transparent;\n",
              "      border-left-color: var(--fill-color);\n",
              "      border-top-color: var(--fill-color);\n",
              "    }\n",
              "    30% {\n",
              "      border-color: transparent;\n",
              "      border-left-color: var(--fill-color);\n",
              "      border-top-color: var(--fill-color);\n",
              "      border-right-color: var(--fill-color);\n",
              "    }\n",
              "    40% {\n",
              "      border-color: transparent;\n",
              "      border-right-color: var(--fill-color);\n",
              "      border-top-color: var(--fill-color);\n",
              "    }\n",
              "    60% {\n",
              "      border-color: transparent;\n",
              "      border-right-color: var(--fill-color);\n",
              "    }\n",
              "    80% {\n",
              "      border-color: transparent;\n",
              "      border-right-color: var(--fill-color);\n",
              "      border-bottom-color: var(--fill-color);\n",
              "    }\n",
              "    90% {\n",
              "      border-color: transparent;\n",
              "      border-bottom-color: var(--fill-color);\n",
              "    }\n",
              "  }\n",
              "</style>\n",
              "\n",
              "  <script>\n",
              "    async function quickchart(key) {\n",
              "      const quickchartButtonEl =\n",
              "        document.querySelector('#' + key + ' button');\n",
              "      quickchartButtonEl.disabled = true;  // To prevent multiple clicks.\n",
              "      quickchartButtonEl.classList.add('colab-df-spinner');\n",
              "      try {\n",
              "        const charts = await google.colab.kernel.invokeFunction(\n",
              "            'suggestCharts', [key], {});\n",
              "      } catch (error) {\n",
              "        console.error('Error during call to suggestCharts:', error);\n",
              "      }\n",
              "      quickchartButtonEl.classList.remove('colab-df-spinner');\n",
              "      quickchartButtonEl.classList.add('colab-df-quickchart-complete');\n",
              "    }\n",
              "    (() => {\n",
              "      let quickchartButtonEl =\n",
              "        document.querySelector('#df-8361f0ed-fc04-4b34-a4ce-f587f401ffb1 button');\n",
              "      quickchartButtonEl.style.display =\n",
              "        google.colab.kernel.accessAllowed ? 'block' : 'none';\n",
              "    })();\n",
              "  </script>\n",
              "</div>\n",
              "\n",
              "    </div>\n",
              "  </div>\n"
            ]
          },
          "metadata": {},
          "execution_count": 292
        }
      ]
    },
    {
      "cell_type": "code",
      "source": [],
      "metadata": {
        "id": "IGrcTE_rHLF6"
      },
      "execution_count": 292,
      "outputs": []
    }
  ],
  "metadata": {
    "colab": {
      "cell_execution_strategy": "setup",
      "provenance": [],
      "collapsed_sections": [
        "uszUjxZfUq-K",
        "Ie4tLVhY-3IQ",
        "OhCJ3g2T6Lzb"
      ]
    },
    "kernelspec": {
      "display_name": "Python 3",
      "name": "python3"
    },
    "language_info": {
      "codemirror_mode": {
        "name": "ipython",
        "version": 3
      },
      "file_extension": ".py",
      "mimetype": "text/x-python",
      "name": "python",
      "nbconvert_exporter": "python",
      "pygments_lexer": "ipython3",
      "version": "3.12.0"
    }
  },
  "nbformat": 4,
  "nbformat_minor": 0
}